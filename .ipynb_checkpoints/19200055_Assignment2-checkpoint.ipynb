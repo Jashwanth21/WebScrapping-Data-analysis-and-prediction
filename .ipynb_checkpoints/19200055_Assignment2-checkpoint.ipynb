{
 "cells": [
  {
   "cell_type": "markdown",
   "metadata": {},
   "source": [
    "# Task 1 : Scraping reviews from the website and choosing 3 categories"
   ]
  },
  {
   "cell_type": "code",
   "execution_count": 813,
   "metadata": {},
   "outputs": [],
   "source": [
    "#importing all the required packages for web scrapping\n",
    "import requests as request\n",
    "from bs4 import BeautifulSoup\n",
    "import bs4\n",
    "import urllib.request\n",
    "import pandas as pd\n",
    "from sklearn.feature_extraction.text import CountVectorizer\n",
    "from sklearn.model_selection import train_test_split\n",
    "from sklearn.metrics import *\n",
    "from sklearn.linear_model import LogisticRegression\n",
    "from sklearn.feature_extraction.text import TfidfVectorizer\n",
    "from sklearn.feature_extraction.text import TfidfTransformer\n",
    "from nltk.corpus import stopwords\n",
    "from nltk.stem import PorterStemmer\n",
    "import nltk\n",
    "import matplotlib.pyplot as plt"
   ]
  },
  {
   "cell_type": "code",
   "execution_count": 814,
   "metadata": {},
   "outputs": [],
   "source": [
    "page = \"http://mlg.ucd.ie/modules/yalp/\""
   ]
  },
  {
   "cell_type": "code",
   "execution_count": 815,
   "metadata": {},
   "outputs": [],
   "source": [
    "response = urllib.request.urlopen(page)\n",
    "html = response.read().decode()"
   ]
  },
  {
   "cell_type": "code",
   "execution_count": 816,
   "metadata": {},
   "outputs": [
    {
     "name": "stdout",
     "output_type": "stream",
     "text": [
      "['index.html', 'automotive_list.html', 'cafes_list.html', 'fashion_list.html', 'gym_list.html', 'hair_salons_list.html', 'hotels_list.html', 'restaurants_list.html']\n"
     ]
    }
   ],
   "source": [
    "#parsing the url using BeautifulSoup and storing the parsed sub urls in a list \n",
    "urls = []\n",
    "b_parser = BeautifulSoup(html,\"html.parser\")\n",
    "for l in b_parser.find_all('a'):\n",
    "    urls.append(l.get('href'))\n",
    "print(urls)"
   ]
  },
  {
   "cell_type": "markdown",
   "metadata": {},
   "source": [
    "There are 7 categories in the given url and they are displayed below in a list.\n",
    "3 categories are chosen from the available 7 categories."
   ]
  },
  {
   "cell_type": "code",
   "execution_count": 817,
   "metadata": {},
   "outputs": [
    {
     "name": "stdout",
     "output_type": "stream",
     "text": [
      "['automotive_list.html', 'cafes_list.html', 'fashion_list.html', 'gym_list.html', 'hair_salons_list.html', 'hotels_list.html', 'restaurants_list.html']\n"
     ]
    }
   ],
   "source": [
    "print(urls[1:])"
   ]
  },
  {
   "cell_type": "code",
   "execution_count": 818,
   "metadata": {},
   "outputs": [],
   "source": [
    "urls=[page+urls[2],page+urls[6],page+urls[7]] #appending the chosen 3 categories' urls to the main list"
   ]
  },
  {
   "cell_type": "code",
   "execution_count": 819,
   "metadata": {},
   "outputs": [
    {
     "name": "stdout",
     "output_type": "stream",
     "text": [
      "http://mlg.ucd.ie/modules/yalp/cafes_list.html\n",
      "http://mlg.ucd.ie/modules/yalp/hotels_list.html\n",
      "http://mlg.ucd.ie/modules/yalp/restaurants_list.html\n"
     ]
    }
   ],
   "source": [
    "#displaying the chosen categories' urls. In this case, Cafe reviews, Hotel reviews and Restaurant reviews are chosen\n",
    "length = len(urls) \n",
    "i = 0\n",
    "while i < length: \n",
    "    print(urls[i]) \n",
    "    i += 1"
   ]
  },
  {
   "cell_type": "markdown",
   "metadata": {},
   "source": [
    "Web scrapping is required in the next step. Each category contains numerous business reviews and they must be accesseded individually to scrap the reviews and the rating in it"
   ]
  },
  {
   "cell_type": "code",
   "execution_count": 820,
   "metadata": {},
   "outputs": [],
   "source": [
    "url_list = [] #empty list for the three categories which will contain their list of business reviews respectively\n",
    "for i in urls:\n",
    "    l = [] #empyt list for the business reviews \n",
    "    response = urllib.request.urlopen(i)\n",
    "    html = response.read().decode()\n",
    "    parser = bs4.BeautifulSoup(html,\"html.parser\")\n",
    "    for j in parser.findAll('a'): \n",
    "        if(j.get('href').split(\".\")[0] != \"index\"):\n",
    "            l.append(j.get('href')) #appending the business reviews individually based on the categories    \n",
    "    url_list.append(l) #appending the respective lists of categories' business reviews"
   ]
  },
  {
   "cell_type": "code",
   "execution_count": 821,
   "metadata": {},
   "outputs": [],
   "source": [
    "url_list = [ [page+c for c in l] for l in url_list] "
   ]
  },
  {
   "cell_type": "code",
   "execution_count": 822,
   "metadata": {},
   "outputs": [
    {
     "data": {
      "text/plain": [
       "[['http://mlg.ucd.ie/modules/yalp/review_set_semizMsHqDfT_kOXQITSOA.html',\n",
       "  'http://mlg.ucd.ie/modules/yalp/review_set_WWTQUb_NUAd5Q_k7jq2r0A.html',\n",
       "  'http://mlg.ucd.ie/modules/yalp/review_set_6Or07nY9iiSSJf-Kaf0GMw.html',\n",
       "  'http://mlg.ucd.ie/modules/yalp/review_set_4l5SRJkmjrRkYVxWNVwFsg.html',\n",
       "  'http://mlg.ucd.ie/modules/yalp/review_set_TpwCjlKsdYjLsvlYhKGt4g.html',\n",
       "  'http://mlg.ucd.ie/modules/yalp/review_set_fRDNQyptBl3c-AggfwfMCg.html',\n",
       "  'http://mlg.ucd.ie/modules/yalp/review_set_kownTVHHvOKawjjmO_WkJw.html',\n",
       "  'http://mlg.ucd.ie/modules/yalp/review_set_2nqMgNGA0ejmpYFuH77xAA.html',\n",
       "  'http://mlg.ucd.ie/modules/yalp/review_set_bXCWON2Me0o86qvAb-XZPQ.html',\n",
       "  'http://mlg.ucd.ie/modules/yalp/review_set_kBIF4PFTbaf7s8sx8buREg.html',\n",
       "  'http://mlg.ucd.ie/modules/yalp/review_set_bR23zlcVESo_vnBlCLBpwQ.html',\n",
       "  'http://mlg.ucd.ie/modules/yalp/review_set_vt2NMSbKpVN0r0HI6Az4bw.html',\n",
       "  'http://mlg.ucd.ie/modules/yalp/review_set_rIRzDHgiPPivvjfySMeGtA.html',\n",
       "  'http://mlg.ucd.ie/modules/yalp/review_set_RfniramWeD6QY-2WsKAhvg.html',\n",
       "  'http://mlg.ucd.ie/modules/yalp/review_set_AXZ8RTf83-bnNJjdeMSqng.html',\n",
       "  'http://mlg.ucd.ie/modules/yalp/review_set_eH96MBK-EAcC0Q-lYqIb8Q.html',\n",
       "  'http://mlg.ucd.ie/modules/yalp/review_set_IhNASEZ3XnBHmuuVnWdIwA.html',\n",
       "  'http://mlg.ucd.ie/modules/yalp/review_set_KMNkriayvWEwdZPcmr1faA.html',\n",
       "  'http://mlg.ucd.ie/modules/yalp/review_set_Hza9Lq1vqA4yTElotZVTDA.html',\n",
       "  'http://mlg.ucd.ie/modules/yalp/review_set_LTtXEZOUVcbd4sZ3dQwg9A.html',\n",
       "  'http://mlg.ucd.ie/modules/yalp/review_set_-OhQws_Si3YOYDfm6DilxA.html',\n",
       "  'http://mlg.ucd.ie/modules/yalp/review_set_YcXp3IMt3qgmCH5-oyXuOg.html',\n",
       "  'http://mlg.ucd.ie/modules/yalp/review_set_eaIVcOTMOeb8U2inN3UTzg.html',\n",
       "  'http://mlg.ucd.ie/modules/yalp/review_set_1ziYClLmdE0CdHqlt9H1dw.html',\n",
       "  'http://mlg.ucd.ie/modules/yalp/review_set_YSPwC1polC7TOwP1kkxkjg.html',\n",
       "  'http://mlg.ucd.ie/modules/yalp/review_set_vSHpYNhhUrKwjT8fYTDwMw.html',\n",
       "  'http://mlg.ucd.ie/modules/yalp/review_set_ynHT0Mo4878oDHbTb4nFlw.html',\n",
       "  'http://mlg.ucd.ie/modules/yalp/review_set_DT35ycaAVzbq83vVGRCoIQ.html',\n",
       "  'http://mlg.ucd.ie/modules/yalp/review_set_g9i9xFh9HtPWNLMB3ru3ug.html',\n",
       "  'http://mlg.ucd.ie/modules/yalp/review_set_f7T0Q1kbsSlbqB2vMdNrCw.html',\n",
       "  'http://mlg.ucd.ie/modules/yalp/review_set_9pp4WAPcvgwA_3FsHmMXBA.html',\n",
       "  'http://mlg.ucd.ie/modules/yalp/review_set_OHAMMo1sdmvFw9SsS-AZQg.html',\n",
       "  'http://mlg.ucd.ie/modules/yalp/review_set_FdShh2s9nfJ1XwXqUqWrrA.html',\n",
       "  'http://mlg.ucd.ie/modules/yalp/review_set_kajp1s8tu9B59OyyHoBExg.html',\n",
       "  'http://mlg.ucd.ie/modules/yalp/review_set_axZSFXdaJ0KE5auPwBllRQ.html',\n",
       "  'http://mlg.ucd.ie/modules/yalp/review_set_eZiDoYkp9-OARMpamfljIw.html',\n",
       "  'http://mlg.ucd.ie/modules/yalp/review_set_kZspuWnM0Y-Losvk2Rl0lA.html',\n",
       "  'http://mlg.ucd.ie/modules/yalp/review_set_AY3Cxky3L3aNbRo_o4YRgg.html',\n",
       "  'http://mlg.ucd.ie/modules/yalp/review_set_c_GeUPI0qjilmWp8QNK-oQ.html',\n",
       "  'http://mlg.ucd.ie/modules/yalp/review_set_EjklATg4aNBWINenUySCgQ.html',\n",
       "  'http://mlg.ucd.ie/modules/yalp/review_set_Z69RXJ2o2pNb6aF8ZKx1WA.html',\n",
       "  'http://mlg.ucd.ie/modules/yalp/review_set_8XoDXN2DKmQGJHZhkQbJ9A.html',\n",
       "  'http://mlg.ucd.ie/modules/yalp/review_set_4Ej5FiDtDluJlz4O6pZkDQ.html',\n",
       "  'http://mlg.ucd.ie/modules/yalp/review_set_W8Y31HuW9fe9j1SVqeT21Q.html',\n",
       "  'http://mlg.ucd.ie/modules/yalp/review_set_ddlnpDxGDDxGGoG_dVXwiw.html',\n",
       "  'http://mlg.ucd.ie/modules/yalp/review_set_Dm9p-2DX-3ID90_DsLHauQ.html',\n",
       "  'http://mlg.ucd.ie/modules/yalp/review_set_8O7kT54vg422y-eoj-5Waw.html',\n",
       "  'http://mlg.ucd.ie/modules/yalp/review_set_p5rpYtxS5xPQjt3MXYVEwA.html',\n",
       "  'http://mlg.ucd.ie/modules/yalp/review_set_s-aGceIVH-XrIWdC4Jkbeg.html',\n",
       "  'http://mlg.ucd.ie/modules/yalp/review_set_phndcbS62E6emuRZDJmoQw.html',\n",
       "  'http://mlg.ucd.ie/modules/yalp/review_set_VXIOTZb0vghuj9t7YSDWLA.html',\n",
       "  'http://mlg.ucd.ie/modules/yalp/review_set_1gBBumY1aO5x4ybRYWRacA.html',\n",
       "  'http://mlg.ucd.ie/modules/yalp/review_set_YSUPAkyni4qpcHfrMOAEww.html',\n",
       "  'http://mlg.ucd.ie/modules/yalp/review_set_lNmUmSwZtD0JMR5wln8DTQ.html',\n",
       "  'http://mlg.ucd.ie/modules/yalp/review_set_RgDH0NZHGT8i6gdklxp0GQ.html',\n",
       "  'http://mlg.ucd.ie/modules/yalp/review_set_CJ0pTLbWP02jiirzuWJCKw.html',\n",
       "  'http://mlg.ucd.ie/modules/yalp/review_set_zFR99jgMi-qzaJXIx8MXHA.html',\n",
       "  'http://mlg.ucd.ie/modules/yalp/review_set_p94oHG7K9BqcMVVOlkzhPg.html',\n",
       "  'http://mlg.ucd.ie/modules/yalp/review_set_RdOz1AUEYmt_2hJm4A_YFQ.html',\n",
       "  'http://mlg.ucd.ie/modules/yalp/review_set_sAEFh7e7fY-W2gMWSbIAWQ.html',\n",
       "  'http://mlg.ucd.ie/modules/yalp/review_set_-BmqghX1sv7sgsxOIS2yAg.html',\n",
       "  'http://mlg.ucd.ie/modules/yalp/review_set_AED5R0yXVzJvWAGEqWBG4A.html',\n",
       "  'http://mlg.ucd.ie/modules/yalp/review_set_PgzUKqJW8IkgGESl_J9vbw.html',\n",
       "  'http://mlg.ucd.ie/modules/yalp/review_set_qAHjfQqGJFClh4wHpbzHSA.html',\n",
       "  'http://mlg.ucd.ie/modules/yalp/review_set_wbia2cGn5pUSCZGLYTu0kw.html',\n",
       "  'http://mlg.ucd.ie/modules/yalp/review_set_vx2T3IspTj6Opxjn95xWRA.html',\n",
       "  'http://mlg.ucd.ie/modules/yalp/review_set_hjjJFekF7f3j9Ayy1KPjzg.html',\n",
       "  'http://mlg.ucd.ie/modules/yalp/review_set_uhI7-7K_DSQhF_-t04gIqw.html',\n",
       "  'http://mlg.ucd.ie/modules/yalp/review_set_FBd6q_qzEFixvhV3KdzvJw.html',\n",
       "  'http://mlg.ucd.ie/modules/yalp/review_set_WeWNrDARpYT_m7tnfrXRRw.html',\n",
       "  'http://mlg.ucd.ie/modules/yalp/review_set_pTCyou_1EKkm1MUeejFLag.html',\n",
       "  'http://mlg.ucd.ie/modules/yalp/review_set_9uUfqLdfV-1BFAJQYEyEYA.html',\n",
       "  'http://mlg.ucd.ie/modules/yalp/review_set_PVeabNks9iMxt5C12AR3cA.html',\n",
       "  'http://mlg.ucd.ie/modules/yalp/review_set_EA7NU-fwH9VtCCVd3yO1fg.html',\n",
       "  'http://mlg.ucd.ie/modules/yalp/review_set_ME9Ap4lox7bJ8vg2GcySLA.html',\n",
       "  'http://mlg.ucd.ie/modules/yalp/review_set_TrBwrc6P_W_XTsphbvuk9g.html',\n",
       "  'http://mlg.ucd.ie/modules/yalp/review_set_aZgOdGn3O_fP2OUr5ATqiw.html',\n",
       "  'http://mlg.ucd.ie/modules/yalp/review_set_fPISsMIXOYZP1uins2Bwyw.html',\n",
       "  'http://mlg.ucd.ie/modules/yalp/review_set_ucZKyX_6Y12T66BKrNvpbg.html',\n",
       "  'http://mlg.ucd.ie/modules/yalp/review_set_VaQhUU3P4Z5A3oYPsEMbkw.html',\n",
       "  'http://mlg.ucd.ie/modules/yalp/review_set_9g0JuC-_vx35T0m3lidwBw.html',\n",
       "  'http://mlg.ucd.ie/modules/yalp/review_set_idM0hDe_Pp2IeYgH0DIIBw.html',\n",
       "  'http://mlg.ucd.ie/modules/yalp/review_set_SJo_IjvzdRtCvZVN0cbrRQ.html',\n",
       "  'http://mlg.ucd.ie/modules/yalp/review_set_5RqU2YARBU69d9zK6h-fXg.html',\n",
       "  'http://mlg.ucd.ie/modules/yalp/review_set_iYdJGoTt3i2UTOnj6zzUYQ.html',\n",
       "  'http://mlg.ucd.ie/modules/yalp/review_set_jp6wKEW6AmSJrz9TtYSx4g.html',\n",
       "  'http://mlg.ucd.ie/modules/yalp/review_set_0C6uuZBD7xKS-uucgwoyQw.html',\n",
       "  'http://mlg.ucd.ie/modules/yalp/review_set_OVkOzOOq6AeZ7z7UAWiTDg.html',\n",
       "  'http://mlg.ucd.ie/modules/yalp/review_set_cQK9M2JAwETQnnBoYyua5A.html',\n",
       "  'http://mlg.ucd.ie/modules/yalp/review_set_5FVTSx9CIzvA3i3AOVaj8g.html',\n",
       "  'http://mlg.ucd.ie/modules/yalp/review_set_8p_h4EUe27Tf-d05dyy9_w.html',\n",
       "  'http://mlg.ucd.ie/modules/yalp/review_set_tnE2pii5EM-9u6iAA1lPyw.html',\n",
       "  'http://mlg.ucd.ie/modules/yalp/review_set_fpADWrjAQwJJrBMBdBCvJg.html',\n",
       "  'http://mlg.ucd.ie/modules/yalp/review_set_A4zKbHT1udV4gcd37HEuZQ.html',\n",
       "  'http://mlg.ucd.ie/modules/yalp/review_set_4jsNKfrbgssqKObCzj05hw.html',\n",
       "  'http://mlg.ucd.ie/modules/yalp/review_set_XBDe0pFAw1B32tpAQN5t2g.html'],\n",
       " ['http://mlg.ucd.ie/modules/yalp/review_set_lAI7jrI7x6OoWC02nKPexg.html',\n",
       "  'http://mlg.ucd.ie/modules/yalp/review_set__0Dnm5H7LdZJjfpCgb3-UQ.html',\n",
       "  'http://mlg.ucd.ie/modules/yalp/review_set_1T6N959Q85RcNol_TuULew.html',\n",
       "  'http://mlg.ucd.ie/modules/yalp/review_set__yvfejU7gP5rQcTnNok2Bw.html',\n",
       "  'http://mlg.ucd.ie/modules/yalp/review_set_LHXisknIbUy_XtdEQc7x9w.html',\n",
       "  'http://mlg.ucd.ie/modules/yalp/review_set_0YGrktLekaG39iEWrvAhSw.html',\n",
       "  'http://mlg.ucd.ie/modules/yalp/review_set_ho1vUk9R7Ole9aNmX6NMDA.html',\n",
       "  'http://mlg.ucd.ie/modules/yalp/review_set_5HwBX7gq2a3HkbPusIkypg.html',\n",
       "  'http://mlg.ucd.ie/modules/yalp/review_set_hBZxyhnmQ3QSmCarG3QZNA.html',\n",
       "  'http://mlg.ucd.ie/modules/yalp/review_set_ZiOWBZAgaiVJG-u7nX8IgQ.html',\n",
       "  'http://mlg.ucd.ie/modules/yalp/review_set_hvCB1FWoaF4mSXhsVD3KCw.html',\n",
       "  'http://mlg.ucd.ie/modules/yalp/review_set_QOzPgKUzLomJe7SvsA3EFg.html',\n",
       "  'http://mlg.ucd.ie/modules/yalp/review_set_K2G1gzYsN--_zcNBYb0SRw.html',\n",
       "  'http://mlg.ucd.ie/modules/yalp/review_set_0Xf5VcIsqWQTSyV46j1g4Q.html',\n",
       "  'http://mlg.ucd.ie/modules/yalp/review_set_-qAQCoYpa5naEqPL8Chuig.html',\n",
       "  'http://mlg.ucd.ie/modules/yalp/review_set_nhIWy8eXayUvDzAz3Ef-Og.html',\n",
       "  'http://mlg.ucd.ie/modules/yalp/review_set_ib0cmmBquUJ0xHcsIRQthQ.html',\n",
       "  'http://mlg.ucd.ie/modules/yalp/review_set_R6ezlXlUBlfzeI_sJ4xuGQ.html',\n",
       "  'http://mlg.ucd.ie/modules/yalp/review_set_TGuwot0wJLcQUfbxDQs3JA.html',\n",
       "  'http://mlg.ucd.ie/modules/yalp/review_set_CRIgrJTqZl4rMGdHhbvPRQ.html',\n",
       "  'http://mlg.ucd.ie/modules/yalp/review_set_NGSqXijVxL3qvrkye66BzQ.html',\n",
       "  'http://mlg.ucd.ie/modules/yalp/review_set_rZUK25ho_Wmgv5tRAs7LMA.html',\n",
       "  'http://mlg.ucd.ie/modules/yalp/review_set_wFIaGdC9SWf2BNYiPflv7g.html',\n",
       "  'http://mlg.ucd.ie/modules/yalp/review_set_F9cIT7WD2-AgovgZ-INoRg.html',\n",
       "  'http://mlg.ucd.ie/modules/yalp/review_set_EWBZ3fBADD0iOxWG8-Zsaw.html',\n",
       "  'http://mlg.ucd.ie/modules/yalp/review_set_d6CPd6Rg__Hw-5ArLQ_k4Q.html',\n",
       "  'http://mlg.ucd.ie/modules/yalp/review_set_Cf_6Axu_TOGx9cbfKqbabA.html',\n",
       "  'http://mlg.ucd.ie/modules/yalp/review_set_Sb_Y5XKPVxnL1NN4YuUAjQ.html',\n",
       "  'http://mlg.ucd.ie/modules/yalp/review_set_HDP48FzTpoZTRsFpBL8Njw.html',\n",
       "  'http://mlg.ucd.ie/modules/yalp/review_set_on2KIpLjeBt8lVt5qF_1RA.html',\n",
       "  'http://mlg.ucd.ie/modules/yalp/review_set_TubOHOaeRA9LTlCf4CtbrA.html',\n",
       "  'http://mlg.ucd.ie/modules/yalp/review_set_7KZAmn7C1ogJH5l6B8D8TQ.html',\n",
       "  'http://mlg.ucd.ie/modules/yalp/review_set_s2o7mmVE3Xvr9pVpIbKuqw.html',\n",
       "  'http://mlg.ucd.ie/modules/yalp/review_set_UnsOYAx1DvJRh1OxUtEJ1w.html',\n",
       "  'http://mlg.ucd.ie/modules/yalp/review_set_wJPqoz7zg4-npig0JqoWpA.html',\n",
       "  'http://mlg.ucd.ie/modules/yalp/review_set_XG4sSq0JQ-3o3KrN-0d8Pg.html',\n",
       "  'http://mlg.ucd.ie/modules/yalp/review_set_cBJURohUbfrWmZAs8Yt6zA.html',\n",
       "  'http://mlg.ucd.ie/modules/yalp/review_set_5coRSpthYajgefF9R1cXDQ.html',\n",
       "  'http://mlg.ucd.ie/modules/yalp/review_set_vSBD_Rel0LTSnNWYUPrFFA.html',\n",
       "  'http://mlg.ucd.ie/modules/yalp/review_set_wdk3se7e9aI35GTCiVkcyA.html',\n",
       "  'http://mlg.ucd.ie/modules/yalp/review_set_sJvn6FXQ6USpbn2poEp88g.html',\n",
       "  'http://mlg.ucd.ie/modules/yalp/review_set_8QqPTCo3VkVHf4G6JA8OLw.html',\n",
       "  'http://mlg.ucd.ie/modules/yalp/review_set_km8B__vM2X2ML7txqWzF4A.html',\n",
       "  'http://mlg.ucd.ie/modules/yalp/review_set_-ucQnELMVRIUOi3-Kv5r0Q.html',\n",
       "  'http://mlg.ucd.ie/modules/yalp/review_set_-59qsDRpa1NQLcg1y6zuPg.html',\n",
       "  'http://mlg.ucd.ie/modules/yalp/review_set_JjYtyoEYnNw7mpXevHE_Ww.html',\n",
       "  'http://mlg.ucd.ie/modules/yalp/review_set_8_QKutB_FqV05o38ySEG7A.html',\n",
       "  'http://mlg.ucd.ie/modules/yalp/review_set_JmZj7wzAJ7_4ksjG9WXdqw.html',\n",
       "  'http://mlg.ucd.ie/modules/yalp/review_set_6QQTNpjFjYy6fvpG0bi33w.html',\n",
       "  'http://mlg.ucd.ie/modules/yalp/review_set_K_FoujvpYuvTBz5hVxxoxQ.html',\n",
       "  'http://mlg.ucd.ie/modules/yalp/review_set_eEnNw3_hBvxcFHyr23kAuA.html',\n",
       "  'http://mlg.ucd.ie/modules/yalp/review_set_TlgwWTF7omCI2SBChEiBSA.html',\n",
       "  'http://mlg.ucd.ie/modules/yalp/review_set_GdzUXAqSPvH77jgQbdofVQ.html',\n",
       "  'http://mlg.ucd.ie/modules/yalp/review_set_A0PeZ5bSZMacGbC8RgUU3A.html',\n",
       "  'http://mlg.ucd.ie/modules/yalp/review_set_sv-m0Oynw9P8QLjfgAzVHw.html',\n",
       "  'http://mlg.ucd.ie/modules/yalp/review_set_bxwZrJ58a0NoNI4chLbyAw.html',\n",
       "  'http://mlg.ucd.ie/modules/yalp/review_set_iMpS5Q1ui6kkO2tf31K-wQ.html',\n",
       "  'http://mlg.ucd.ie/modules/yalp/review_set_W1fPf248xyubhrBqfJ3PrQ.html',\n",
       "  'http://mlg.ucd.ie/modules/yalp/review_set_Ycn-l-X6joxbVQzgxjXpRQ.html',\n",
       "  'http://mlg.ucd.ie/modules/yalp/review_set_YBb-NJm0078ELrTw4T8NTQ.html',\n",
       "  'http://mlg.ucd.ie/modules/yalp/review_set_GoVRPbvG9oLfNZ54v4nYbw.html',\n",
       "  'http://mlg.ucd.ie/modules/yalp/review_set_Ou7atDIVAKz2ZmxRUGlneg.html',\n",
       "  'http://mlg.ucd.ie/modules/yalp/review_set__r_9fnwe5VCFRjm3z2HiBA.html',\n",
       "  'http://mlg.ucd.ie/modules/yalp/review_set_SzidKLlwHW6xw3tjrmNbeA.html',\n",
       "  'http://mlg.ucd.ie/modules/yalp/review_set_piAAi-H1MDh4mOXPgu3okA.html',\n",
       "  'http://mlg.ucd.ie/modules/yalp/review_set_j-w4K1ZbZJw1M9Z-CauFzA.html',\n",
       "  'http://mlg.ucd.ie/modules/yalp/review_set_SGjy-d7Ysuz7Ap0vsKVPMA.html',\n",
       "  'http://mlg.ucd.ie/modules/yalp/review_set_H51GLza7miSx-PJf4vI7Qw.html',\n",
       "  'http://mlg.ucd.ie/modules/yalp/review_set_V9THpMJoHCgwuJY1Elj_zw.html',\n",
       "  'http://mlg.ucd.ie/modules/yalp/review_set_FSxWmiTFLBPR6Yb8y1TeCg.html',\n",
       "  'http://mlg.ucd.ie/modules/yalp/review_set_aCAR9b5DTxfXVNq4kcLzsg.html',\n",
       "  'http://mlg.ucd.ie/modules/yalp/review_set_eAc9Vd6loOgRQolMXQt6FA.html',\n",
       "  'http://mlg.ucd.ie/modules/yalp/review_set_s7WZTJQxs5MR9HSHQyg7rw.html',\n",
       "  'http://mlg.ucd.ie/modules/yalp/review_set_ffUcgeCq93RXNqQ8sqXU7w.html',\n",
       "  'http://mlg.ucd.ie/modules/yalp/review_set_m3bgjLWX7s8HXxYTKYjKzg.html',\n",
       "  'http://mlg.ucd.ie/modules/yalp/review_set_ALatQRQeY1Bi60bJ2WgDGA.html',\n",
       "  'http://mlg.ucd.ie/modules/yalp/review_set_Nwkn_m8e0R8fx_XKhfgRHw.html',\n",
       "  'http://mlg.ucd.ie/modules/yalp/review_set_Pa-R4o5I6BmCoI6y8N9oFQ.html',\n",
       "  'http://mlg.ucd.ie/modules/yalp/review_set_MiUrif_vYOuITF4ALf7WHA.html',\n",
       "  'http://mlg.ucd.ie/modules/yalp/review_set_rgkiZQF5GUiMEM2xa83grQ.html',\n",
       "  'http://mlg.ucd.ie/modules/yalp/review_set_pOidKp4POMXsnAXWo921fw.html',\n",
       "  'http://mlg.ucd.ie/modules/yalp/review_set_qdktF3_1O7OOre6yMppubQ.html',\n",
       "  'http://mlg.ucd.ie/modules/yalp/review_set_1l-6sFjSKgQ7zIlvlX8uiw.html',\n",
       "  'http://mlg.ucd.ie/modules/yalp/review_set_vAeE7AQruc3N6OVMHQwylA.html',\n",
       "  'http://mlg.ucd.ie/modules/yalp/review_set_SJZFzBeCAZEW4u8wQsGbSw.html',\n",
       "  'http://mlg.ucd.ie/modules/yalp/review_set__PIxbGyLZONKMI3MV8sR6w.html',\n",
       "  'http://mlg.ucd.ie/modules/yalp/review_set_E6U4MXiyezvOvCgMvlkDZw.html',\n",
       "  'http://mlg.ucd.ie/modules/yalp/review_set_erd9VSrJCP_lYeTaKzpRfA.html',\n",
       "  'http://mlg.ucd.ie/modules/yalp/review_set_CSc_152hwhSHIzto8tLJ7w.html',\n",
       "  'http://mlg.ucd.ie/modules/yalp/review_set_LgrGYXtuwumUODemA66VGQ.html',\n",
       "  'http://mlg.ucd.ie/modules/yalp/review_set_Kx5YcgpOhA6AV4byNVMEHg.html',\n",
       "  'http://mlg.ucd.ie/modules/yalp/review_set_X4rz4RgG6exo0KnREVr7AA.html',\n",
       "  'http://mlg.ucd.ie/modules/yalp/review_set_rTZVcJZ8G80i6NjLw0SW8Q.html',\n",
       "  'http://mlg.ucd.ie/modules/yalp/review_set_TyFerJhQzfzyToTJwmh_QQ.html',\n",
       "  'http://mlg.ucd.ie/modules/yalp/review_set_MVtB0uLZ9x_0HG6_MsyRXA.html',\n",
       "  'http://mlg.ucd.ie/modules/yalp/review_set_n9r6Rxr3gxbZiSHWEB7ujg.html',\n",
       "  'http://mlg.ucd.ie/modules/yalp/review_set_VbRhikPI-Mmweau5WBv5CQ.html',\n",
       "  'http://mlg.ucd.ie/modules/yalp/review_set_7eb-UQiUkQJVyJAknCymUg.html',\n",
       "  'http://mlg.ucd.ie/modules/yalp/review_set_NFVMfPRzFSA_3g6bqHreRg.html',\n",
       "  'http://mlg.ucd.ie/modules/yalp/review_set_sgnqFImVFaWEJDjYz71m0w.html',\n",
       "  'http://mlg.ucd.ie/modules/yalp/review_set_2QoIgLVJBreZvBDFu4pdcg.html',\n",
       "  'http://mlg.ucd.ie/modules/yalp/review_set_HGhXbgeMEcg1cIZwxyNDeg.html',\n",
       "  'http://mlg.ucd.ie/modules/yalp/review_set_yg0fwJoTyQOYYYKmwTSk7w.html',\n",
       "  'http://mlg.ucd.ie/modules/yalp/review_set_M-uo9HTEJEx7cS0eCsQyUg.html',\n",
       "  'http://mlg.ucd.ie/modules/yalp/review_set_Wxxvi3LZbHNIDwJ-ZimtnA.html',\n",
       "  'http://mlg.ucd.ie/modules/yalp/review_set_fbbO2vNsYPhi11Se7T95lQ.html',\n",
       "  'http://mlg.ucd.ie/modules/yalp/review_set_aPlGRDxKaA6JkE5mY66g0w.html',\n",
       "  'http://mlg.ucd.ie/modules/yalp/review_set_9UFz3K9_uD3EUirEOgbbBg.html',\n",
       "  'http://mlg.ucd.ie/modules/yalp/review_set_PKA4nC6EKdBFnyY-BuZcfw.html',\n",
       "  'http://mlg.ucd.ie/modules/yalp/review_set_XYNgHswZjNxKayj7FUFAng.html',\n",
       "  'http://mlg.ucd.ie/modules/yalp/review_set_zJCbSgXWFWwvKiIRFFuiTA.html',\n",
       "  'http://mlg.ucd.ie/modules/yalp/review_set_6rNqiBT0znKYGTHJ1S59mg.html',\n",
       "  'http://mlg.ucd.ie/modules/yalp/review_set_lBqkAjOhm-LMHt6y1Ap_QA.html'],\n",
       " ['http://mlg.ucd.ie/modules/yalp/review_set_cN0DHOTO1VPBMwDow8OzCw.html',\n",
       "  'http://mlg.ucd.ie/modules/yalp/review_set_Oj6W90G1ZVay9cRl6_uKXg.html',\n",
       "  'http://mlg.ucd.ie/modules/yalp/review_set_cdJDKOB0Todcqnv6CiOQTg.html',\n",
       "  'http://mlg.ucd.ie/modules/yalp/review_set_hODnmsq1kK6eA0VLbFQOVw.html',\n",
       "  'http://mlg.ucd.ie/modules/yalp/review_set_5zk3LxFzijmY2JipVZ7Xdg.html',\n",
       "  'http://mlg.ucd.ie/modules/yalp/review_set_kUQwaqwxKlScAQNhRx2_2w.html',\n",
       "  'http://mlg.ucd.ie/modules/yalp/review_set_Daasejc2-RV-MxEKpPjXtA.html',\n",
       "  'http://mlg.ucd.ie/modules/yalp/review_set_kWcAfYg-60hpIUEUSzWjHQ.html',\n",
       "  'http://mlg.ucd.ie/modules/yalp/review_set_3TnNC-AMuQ4upCtcgtU49w.html',\n",
       "  'http://mlg.ucd.ie/modules/yalp/review_set_VHskIuH12SlaguUA83XmYA.html',\n",
       "  'http://mlg.ucd.ie/modules/yalp/review_set_nS6QENxe6YODNrQ45bpC-A.html',\n",
       "  'http://mlg.ucd.ie/modules/yalp/review_set_J2yHV9KNwBHD7bnGMANCpw.html',\n",
       "  'http://mlg.ucd.ie/modules/yalp/review_set_hDzL5ywj0q3CDjXXSvhYAg.html',\n",
       "  'http://mlg.ucd.ie/modules/yalp/review_set_B9QJToIrPjRAUuPoemMUNg.html',\n",
       "  'http://mlg.ucd.ie/modules/yalp/review_set_61GpnJGtPC7X1gSCkBbnHw.html',\n",
       "  'http://mlg.ucd.ie/modules/yalp/review_set_Fruul4wgS8Y_wuUMc7O-Cg.html',\n",
       "  'http://mlg.ucd.ie/modules/yalp/review_set_ZkBliepoBME9_04bGYnAGw.html',\n",
       "  'http://mlg.ucd.ie/modules/yalp/review_set_QMI6A2H1N3SwKU69SiASJA.html',\n",
       "  'http://mlg.ucd.ie/modules/yalp/review_set_DgHXVoAZ4XzbcQMahuJCbw.html',\n",
       "  'http://mlg.ucd.ie/modules/yalp/review_set_kc5JPu8lkg64yUbrheJxng.html',\n",
       "  'http://mlg.ucd.ie/modules/yalp/review_set_CE7hNKYS6gIMKv6jK429uQ.html',\n",
       "  'http://mlg.ucd.ie/modules/yalp/review_set_D2t3yDnG-HI17YOsiiWIuw.html',\n",
       "  'http://mlg.ucd.ie/modules/yalp/review_set_CzqGem5OaPAk10bQK4bzbg.html',\n",
       "  'http://mlg.ucd.ie/modules/yalp/review_set_ey1eAQldmOASEuCdFVmTPA.html',\n",
       "  'http://mlg.ucd.ie/modules/yalp/review_set_ln_sQpaOjtAW5bm5SIp6rw.html',\n",
       "  'http://mlg.ucd.ie/modules/yalp/review_set_uFMOQUE4TsxEt7ifnblBpg.html',\n",
       "  'http://mlg.ucd.ie/modules/yalp/review_set_Z2NF_xBF-7RqAfu_4EO9ow.html',\n",
       "  'http://mlg.ucd.ie/modules/yalp/review_set_v_frjRRrLTm4eJchadhf_g.html',\n",
       "  'http://mlg.ucd.ie/modules/yalp/review_set_E6MzqMIRocjvwU4gPuEImg.html',\n",
       "  'http://mlg.ucd.ie/modules/yalp/review_set_JdSF_NucmJZcl1eNlNXZ0Q.html',\n",
       "  'http://mlg.ucd.ie/modules/yalp/review_set_1QflFDnReuQW7CoXGL9oUA.html',\n",
       "  'http://mlg.ucd.ie/modules/yalp/review_set_G2hTYYzvlg75BisWSHarLQ.html',\n",
       "  'http://mlg.ucd.ie/modules/yalp/review_set_66EYUS3iichq-Gn6KjgX2A.html',\n",
       "  'http://mlg.ucd.ie/modules/yalp/review_set_ccyst2yyDKH8ldrapQPwMg.html',\n",
       "  'http://mlg.ucd.ie/modules/yalp/review_set_lpW5eMwhe1DF5eGQOAAeng.html',\n",
       "  'http://mlg.ucd.ie/modules/yalp/review_set_2RNrD93tdvv691deX3vpWQ.html',\n",
       "  'http://mlg.ucd.ie/modules/yalp/review_set_5UK1KtbB1dHTCo0LNDVslA.html',\n",
       "  'http://mlg.ucd.ie/modules/yalp/review_set_Tp1vNJZ7CHlo4i9AMbBwYQ.html',\n",
       "  'http://mlg.ucd.ie/modules/yalp/review_set_sUlrsu49OiV2HaAkCNLhdQ.html',\n",
       "  'http://mlg.ucd.ie/modules/yalp/review_set_NxaUae0TUcMdg21MX6My4w.html',\n",
       "  'http://mlg.ucd.ie/modules/yalp/review_set_g4rkl-BorzlT1hIz_-vsew.html',\n",
       "  'http://mlg.ucd.ie/modules/yalp/review_set_iYMnlr51o9_4Qw-IuWcc4w.html',\n",
       "  'http://mlg.ucd.ie/modules/yalp/review_set_RJ5XMnAxp0DC4h4dcCECsA.html',\n",
       "  'http://mlg.ucd.ie/modules/yalp/review_set_ti1bb30WwnkDLuVvpTM6fQ.html',\n",
       "  'http://mlg.ucd.ie/modules/yalp/review_set_-0uEqc2vw1xXtuI_r1xTNg.html',\n",
       "  'http://mlg.ucd.ie/modules/yalp/review_set_Z072pEHdos2Gjj3nMdR6uA.html',\n",
       "  'http://mlg.ucd.ie/modules/yalp/review_set_nK7JeIqdBli3umEhBIh33g.html',\n",
       "  'http://mlg.ucd.ie/modules/yalp/review_set_Jf5etKG_Sc3Xe2dcIUvWZw.html',\n",
       "  'http://mlg.ucd.ie/modules/yalp/review_set_gWZOW4-8N5dLixQAlp8iRg.html',\n",
       "  'http://mlg.ucd.ie/modules/yalp/review_set_TNV-nSWQ_pN6wrMwAgxSkA.html',\n",
       "  'http://mlg.ucd.ie/modules/yalp/review_set_gyJRkxqN3b0ib_evxt3mqQ.html',\n",
       "  'http://mlg.ucd.ie/modules/yalp/review_set_5H7AyjxmLGuEjigfXVApZg.html',\n",
       "  'http://mlg.ucd.ie/modules/yalp/review_set_CDl0tbkfSZS3UHg5_L9gBA.html',\n",
       "  'http://mlg.ucd.ie/modules/yalp/review_set_BUcTdN-rNE8urCCQuxSOQA.html',\n",
       "  'http://mlg.ucd.ie/modules/yalp/review_set_qCPyN84ieevYZV9ZbUZXgg.html',\n",
       "  'http://mlg.ucd.ie/modules/yalp/review_set_HO9ABJoXBv29UTNQrRJoRw.html',\n",
       "  'http://mlg.ucd.ie/modules/yalp/review_set_QToLw4ijAdErQ906aqr5aw.html',\n",
       "  'http://mlg.ucd.ie/modules/yalp/review_set_tZkUF9LI9oxtNsZtsbpfVg.html',\n",
       "  'http://mlg.ucd.ie/modules/yalp/review_set_aXWN4oH8W-MVDchWia084g.html',\n",
       "  'http://mlg.ucd.ie/modules/yalp/review_set_HO2knNxcc_8lFtgGxN8q2A.html',\n",
       "  'http://mlg.ucd.ie/modules/yalp/review_set_ApG7b6SZpHTTsX3q6NcXgg.html',\n",
       "  'http://mlg.ucd.ie/modules/yalp/review_set_0C1qx56oVXIkDvnl4CN8tQ.html',\n",
       "  'http://mlg.ucd.ie/modules/yalp/review_set_v2xh5qtrlRJSU3OnixJH2g.html',\n",
       "  'http://mlg.ucd.ie/modules/yalp/review_set_SsNwqMQl0tQrZ5MvBVnceA.html',\n",
       "  'http://mlg.ucd.ie/modules/yalp/review_set_5XX1w4WbwSlrACQ5vKuLDw.html',\n",
       "  'http://mlg.ucd.ie/modules/yalp/review_set_8KiTq2GxJm8mpr8kayAp-A.html',\n",
       "  'http://mlg.ucd.ie/modules/yalp/review_set_H6iQEpsuTy_w6t6thkvOSQ.html',\n",
       "  'http://mlg.ucd.ie/modules/yalp/review_set_KWZCNN7VTFE4BVbIIW14Nw.html',\n",
       "  'http://mlg.ucd.ie/modules/yalp/review_set_F56TiSa71Tk4PIQ0HN8oag.html',\n",
       "  'http://mlg.ucd.ie/modules/yalp/review_set_ZVlAV-bkz-oN7foA5HHWDg.html',\n",
       "  'http://mlg.ucd.ie/modules/yalp/review_set_o0aGMe0ukXSJgd4QefM6cQ.html',\n",
       "  'http://mlg.ucd.ie/modules/yalp/review_set_-8iwcXhLnyqbLgvcrJGgaw.html',\n",
       "  'http://mlg.ucd.ie/modules/yalp/review_set_bclAyinIbsMTVLmlrUzKWw.html',\n",
       "  'http://mlg.ucd.ie/modules/yalp/review_set_9nNkpfDhSeUbskJSxaHTjg.html',\n",
       "  'http://mlg.ucd.ie/modules/yalp/review_set_1mOL0ZVy622lo7hc0f1vXQ.html',\n",
       "  'http://mlg.ucd.ie/modules/yalp/review_set_BmAhw0dGq0K1-TyIqM8SFg.html',\n",
       "  'http://mlg.ucd.ie/modules/yalp/review_set_nk9lP-iXi7xklwN3VYf6Ew.html',\n",
       "  'http://mlg.ucd.ie/modules/yalp/review_set_t7zt6AgybRzdPtj7fh_aJg.html',\n",
       "  'http://mlg.ucd.ie/modules/yalp/review_set_3k9treY8PmsZ42bKmuICgA.html',\n",
       "  'http://mlg.ucd.ie/modules/yalp/review_set_KtTGZzxV6DSNuCn-6T3NcA.html',\n",
       "  'http://mlg.ucd.ie/modules/yalp/review_set_panTWmCXuufjRNBerlvONw.html',\n",
       "  'http://mlg.ucd.ie/modules/yalp/review_set_LrEjsBYlqXdig7x5DFz0ow.html',\n",
       "  'http://mlg.ucd.ie/modules/yalp/review_set_OCgwii1SvfJO29bdQglgRA.html',\n",
       "  'http://mlg.ucd.ie/modules/yalp/review_set_JiecNolGPkAMAsgkK3E4MA.html',\n",
       "  'http://mlg.ucd.ie/modules/yalp/review_set_7BoXrkEw-b98Wi1EaSH3HA.html',\n",
       "  'http://mlg.ucd.ie/modules/yalp/review_set_DqAKVS9zdjepVOa46yKyVw.html',\n",
       "  'http://mlg.ucd.ie/modules/yalp/review_set_yednPCeCKT2eQWtv5wd7Lg.html',\n",
       "  'http://mlg.ucd.ie/modules/yalp/review_set_cicPsia8Wj-DNRkmLbD_xg.html',\n",
       "  'http://mlg.ucd.ie/modules/yalp/review_set_T5f2zlczcS00W70e_omQ6w.html',\n",
       "  'http://mlg.ucd.ie/modules/yalp/review_set_EDcZRvERC22Cvw1yi4-VKg.html',\n",
       "  'http://mlg.ucd.ie/modules/yalp/review_set_Z0hvqoCY2NBK5QEU_1jY-g.html',\n",
       "  'http://mlg.ucd.ie/modules/yalp/review_set_RQ_sx6lNGVjSTtasK3wlQg.html',\n",
       "  'http://mlg.ucd.ie/modules/yalp/review_set_e9KXojla4OuVP7qcC5LNsg.html',\n",
       "  'http://mlg.ucd.ie/modules/yalp/review_set_TBPHp7E-KQpFCsLwY4wamQ.html',\n",
       "  'http://mlg.ucd.ie/modules/yalp/review_set_5V9i2FuhQ3o8ynYwbubmQg.html',\n",
       "  'http://mlg.ucd.ie/modules/yalp/review_set_l1hqzJAIYEs3NQYqjH_kxA.html',\n",
       "  'http://mlg.ucd.ie/modules/yalp/review_set_JgaQFKxW-Bnfc7r5EJZhSQ.html',\n",
       "  'http://mlg.ucd.ie/modules/yalp/review_set_p-7tiC02sUp1JtQNtPL31g.html',\n",
       "  'http://mlg.ucd.ie/modules/yalp/review_set_jHkcNN3KZV9QZQRwwRLRXQ.html',\n",
       "  'http://mlg.ucd.ie/modules/yalp/review_set_inWP6FrTecbCjgbxAxK0dQ.html']]"
      ]
     },
     "execution_count": 822,
     "metadata": {},
     "output_type": "execute_result"
    }
   ],
   "source": [
    "# First list contains the links of reviews of each business inside Cafes.\n",
    "# Second list contains the links of reviews of each business inside Hotels.\n",
    "# Third list contains the links of reviews of each business inside Restaurant.\n",
    "# There are lists inside a list\n",
    "url_list"
   ]
  },
  {
   "cell_type": "code",
   "execution_count": 823,
   "metadata": {},
   "outputs": [],
   "source": [
    "data = [] # Empty list to store the scrapped reviews and ratings\n",
    "for urls in url_list:\n",
    "    single_data= [] # Temporary list to store all the reviews of all the businesses of each category \n",
    "    for url in urls:\n",
    "        response = urllib.request.urlopen(url)\n",
    "        html = response.read().decode()\n",
    "        parser = bs4.BeautifulSoup(html,\"html.parser\")\n",
    "        for i in parser.findAll(\"div\", {\"class\": \"review\"}):\n",
    "            single_review=[] # Temporary list to store all the reviews and ratings of each business of a single category for every iteration\n",
    "            single_review.append(i.find(\"p\",{\"class\":\"review-text\"}).get_text())\n",
    "            r = int(i.find('img').get('alt')[0])\n",
    "            if r < 4:  # if condition to satisfy the condition of \"if stars < 4 then negative else positive\"\n",
    "                single_review.append('Negative')\n",
    "            else:\n",
    "                single_review.append('Positive')\n",
    "            single_data.append(single_review) #appending all the reviews of all the businesses of each category\n",
    "    data.append(single_data) #appending the scrapped reviews and ratings of all the businesses "
   ]
  },
  {
   "cell_type": "code",
   "execution_count": 824,
   "metadata": {},
   "outputs": [],
   "source": [
    "#Converting the list of list to dataframes and moving the list of each category to their respective variables\n",
    "cafe_data = pd.DataFrame(data[0])\n",
    "hotel_data = pd.DataFrame(data[1])\n",
    "restaurant_data = pd.DataFrame(data[2])"
   ]
  },
  {
   "cell_type": "code",
   "execution_count": 825,
   "metadata": {},
   "outputs": [],
   "source": [
    "#Changing the column names to review and ratings\n",
    "cafe_data.columns=['Review','Ratings']\n",
    "hotel_data.columns=['Review','Ratings']\n",
    "restaurant_data.columns=['Review','Ratings']"
   ]
  },
  {
   "cell_type": "code",
   "execution_count": 826,
   "metadata": {},
   "outputs": [
    {
     "data": {
      "text/html": [
       "<div>\n",
       "<style scoped>\n",
       "    .dataframe tbody tr th:only-of-type {\n",
       "        vertical-align: middle;\n",
       "    }\n",
       "\n",
       "    .dataframe tbody tr th {\n",
       "        vertical-align: top;\n",
       "    }\n",
       "\n",
       "    .dataframe thead th {\n",
       "        text-align: right;\n",
       "    }\n",
       "</style>\n",
       "<table border=\"1\" class=\"dataframe\">\n",
       "  <thead>\n",
       "    <tr style=\"text-align: right;\">\n",
       "      <th></th>\n",
       "      <th>Review</th>\n",
       "      <th>Ratings</th>\n",
       "    </tr>\n",
       "  </thead>\n",
       "  <tbody>\n",
       "    <tr>\n",
       "      <td>0</td>\n",
       "      <td>Pros: Lots of items you would not expect from ...</td>\n",
       "      <td>Positive</td>\n",
       "    </tr>\n",
       "    <tr>\n",
       "      <td>1</td>\n",
       "      <td>Best egg-tarts in town! There's really not muc...</td>\n",
       "      <td>Positive</td>\n",
       "    </tr>\n",
       "    <tr>\n",
       "      <td>2</td>\n",
       "      <td>I've been to ABC Bakery a few times since I re...</td>\n",
       "      <td>Negative</td>\n",
       "    </tr>\n",
       "    <tr>\n",
       "      <td>3</td>\n",
       "      <td>FYI, Closed Monday's New ownership for about 1...</td>\n",
       "      <td>Negative</td>\n",
       "    </tr>\n",
       "    <tr>\n",
       "      <td>4</td>\n",
       "      <td>The inside may not look like much but they mak...</td>\n",
       "      <td>Positive</td>\n",
       "    </tr>\n",
       "  </tbody>\n",
       "</table>\n",
       "</div>"
      ],
      "text/plain": [
       "                                              Review   Ratings\n",
       "0  Pros: Lots of items you would not expect from ...  Positive\n",
       "1  Best egg-tarts in town! There's really not muc...  Positive\n",
       "2  I've been to ABC Bakery a few times since I re...  Negative\n",
       "3  FYI, Closed Monday's New ownership for about 1...  Negative\n",
       "4  The inside may not look like much but they mak...  Positive"
      ]
     },
     "execution_count": 826,
     "metadata": {},
     "output_type": "execute_result"
    }
   ],
   "source": [
    "cafe_data.head() #printing out the head of the dataframe"
   ]
  },
  {
   "cell_type": "markdown",
   "metadata": {},
   "source": [
    "# Task 2a Pre-Processing steps for classification"
   ]
  },
  {
   "cell_type": "code",
   "execution_count": 827,
   "metadata": {},
   "outputs": [],
   "source": [
    "#creating factorize() to create unique numeric representation for ratings\n",
    "#Here, Negative is 0 and Positive is 1\n",
    "cafe_data['class'] = df['Ratings'].factorize()[0]\n",
    "hotel_data['class'] = df_1['Ratings'].factorize()[0]\n",
    "restaurant_data['class'] = df_2['Ratings'].factorize()[0]"
   ]
  },
  {
   "cell_type": "code",
   "execution_count": 828,
   "metadata": {},
   "outputs": [
    {
     "data": {
      "text/html": [
       "<div>\n",
       "<style scoped>\n",
       "    .dataframe tbody tr th:only-of-type {\n",
       "        vertical-align: middle;\n",
       "    }\n",
       "\n",
       "    .dataframe tbody tr th {\n",
       "        vertical-align: top;\n",
       "    }\n",
       "\n",
       "    .dataframe thead th {\n",
       "        text-align: right;\n",
       "    }\n",
       "</style>\n",
       "<table border=\"1\" class=\"dataframe\">\n",
       "  <thead>\n",
       "    <tr style=\"text-align: right;\">\n",
       "      <th></th>\n",
       "      <th>Review</th>\n",
       "      <th>Ratings</th>\n",
       "      <th>class</th>\n",
       "    </tr>\n",
       "  </thead>\n",
       "  <tbody>\n",
       "    <tr>\n",
       "      <td>0</td>\n",
       "      <td>My husband and I had a rare afternoon off so w...</td>\n",
       "      <td>Negative</td>\n",
       "      <td>0</td>\n",
       "    </tr>\n",
       "    <tr>\n",
       "      <td>1</td>\n",
       "      <td>For years I thought this was only a wine store...</td>\n",
       "      <td>Positive</td>\n",
       "      <td>1</td>\n",
       "    </tr>\n",
       "    <tr>\n",
       "      <td>2</td>\n",
       "      <td>This place is so charming! I went with my husb...</td>\n",
       "      <td>Positive</td>\n",
       "      <td>1</td>\n",
       "    </tr>\n",
       "    <tr>\n",
       "      <td>3</td>\n",
       "      <td>We have been wanting to try this place for a c...</td>\n",
       "      <td>Positive</td>\n",
       "      <td>1</td>\n",
       "    </tr>\n",
       "    <tr>\n",
       "      <td>4</td>\n",
       "      <td>Decor looks ok but layout is too busy. Difficu...</td>\n",
       "      <td>Negative</td>\n",
       "      <td>0</td>\n",
       "    </tr>\n",
       "  </tbody>\n",
       "</table>\n",
       "</div>"
      ],
      "text/plain": [
       "                                              Review   Ratings  class\n",
       "0  My husband and I had a rare afternoon off so w...  Negative      0\n",
       "1  For years I thought this was only a wine store...  Positive      1\n",
       "2  This place is so charming! I went with my husb...  Positive      1\n",
       "3  We have been wanting to try this place for a c...  Positive      1\n",
       "4  Decor looks ok but layout is too busy. Difficu...  Negative      0"
      ]
     },
     "execution_count": 828,
     "metadata": {},
     "output_type": "execute_result"
    }
   ],
   "source": [
    "restaurant_data.head() #printing out the head of the dataframe"
   ]
  },
  {
   "cell_type": "code",
   "execution_count": 829,
   "metadata": {},
   "outputs": [],
   "source": [
    "#creating a function pre_processing which will include all the preprocessing steps such as Stemming,Stop-words removal,Punctuation and white space removal\n",
    "#we use the nltk packages to perform all the necessary preprocessing steps\n",
    "def pre_processing(frame):\n",
    "    stopwords = nltk.corpus.stopwords.words('english')\n",
    "    porter_stemmer = PorterStemmer()\n",
    "    #Removing the punctuations  \n",
    "    frame['Review'] = frame.Review.str.replace(\"[^\\w\\s]\", \"\")\n",
    "    #Stripping the white spaces from the words\n",
    "    frame['Review'] = frame['Review'].str.strip()\n",
    "    #Removing all the stop words from the reviews\n",
    "    frame['Review'] = frame['Review'].apply(lambda x: [words for words in x.split() if words not in stopwords]) \n",
    "    # Stemming words from the reviews\n",
    "    frame['Review'] = frame['Review'].apply(lambda y: [porter_stemmer.stem(z) for z in y])\n",
    "    #Coverting the review which is as list into string to give as an input to the Count Vectorizer\n",
    "    frame['Review'] = [','.join(map(str, s)) for s in frame['Review']]\n",
    "    return frame"
   ]
  },
  {
   "cell_type": "code",
   "execution_count": 830,
   "metadata": {},
   "outputs": [
    {
     "data": {
      "text/plain": [
       "0    1462\n",
       "1     538\n",
       "Name: class, dtype: int64"
      ]
     },
     "execution_count": 830,
     "metadata": {},
     "output_type": "execute_result"
    }
   ],
   "source": [
    "cafe_data = pre_processing(cafe_data) #calling the function pre_processing wiht cafe_data as argument to perform preprocessing\n",
    "documents_1 = cafe_data[\"Review\"] #Reviews are stored seperately as documents\n",
    "target_1= cafe_data[\"class\"] #class is stored as targets\n",
    "target_1.value_counts() #To check if the count of the target satisfies the total records (documents) in the dataset"
   ]
  },
  {
   "cell_type": "code",
   "execution_count": 831,
   "metadata": {},
   "outputs": [],
   "source": [
    "cafe_data.to_csv('Cafe_data.csv') #converting dataframe to csv for reference"
   ]
  },
  {
   "cell_type": "markdown",
   "metadata": {},
   "source": [
    "Here, we need to represent documents as vectors. Hence we use scikit-learn tokenizer to vectorize"
   ]
  },
  {
   "cell_type": "code",
   "execution_count": 832,
   "metadata": {
    "scrolled": true
   },
   "outputs": [
    {
     "name": "stdout",
     "output_type": "stream",
     "text": [
      "(2000, 1479)\n"
     ]
    }
   ],
   "source": [
    "X_1 = vectorizer.fit_transform(documents_1) #vectorizing\n",
    "print(X_1.shape) #displaying the shape. It shows that there are 2000 documents and 1479 distinct terms"
   ]
  },
  {
   "cell_type": "code",
   "execution_count": 833,
   "metadata": {},
   "outputs": [
    {
     "name": "stdout",
     "output_type": "stream",
     "text": [
      "Vocabulary has 1479 distinct terms\n"
     ]
    }
   ],
   "source": [
    "terms_1 = vectorizer.get_feature_names()\n",
    "print(\"Vocabulary has %d distinct terms\" % len(terms_1))"
   ]
  },
  {
   "cell_type": "code",
   "execution_count": 834,
   "metadata": {},
   "outputs": [
    {
     "name": "stdout",
     "output_type": "stream",
     "text": [
      "['away', 'awesom', 'back', 'bacon', 'bad', 'bag', 'bagel', 'bake', 'bakeri', 'balanc', 'ball', 'banana', 'bar', 'bare', 'barista', 'bartend', 'base', 'basic', 'basil', 'bathroom', 'bbq', 'be', 'bean', 'beat', 'beauti', 'becom', 'beef', 'been', 'beer', 'begin', 'behind', 'believ', 'benedict', 'berri', 'besid', 'best', 'better', 'beverag', 'beyond', 'big', 'bigger', 'biggest', 'bike', 'bill', 'birthday', 'biscuit', 'bistro', 'bit', 'bite', 'bitter']\n"
     ]
    }
   ],
   "source": [
    "# Displaying a set of sample terms\n",
    "print(terms_1[100:150])"
   ]
  },
  {
   "cell_type": "code",
   "execution_count": 835,
   "metadata": {},
   "outputs": [
    {
     "data": {
      "text/plain": [
       "0    1176\n",
       "1     824\n",
       "Name: class, dtype: int64"
      ]
     },
     "execution_count": 835,
     "metadata": {},
     "output_type": "execute_result"
    }
   ],
   "source": [
    "hotel_data = pre_processing(hotel_data) #calling the function pre_processing wiht hotel_data as argument to perform preprocessing\n",
    "documents_2 = hotel_data[\"Review\"] #Reviews are stored seperately as documents\n",
    "target_2= hotel_data[\"class\"] #class is stored as targets\n",
    "target_2.value_counts() #To check if the count of the target satisfies the total records (documents) in the dataset"
   ]
  },
  {
   "cell_type": "code",
   "execution_count": 836,
   "metadata": {},
   "outputs": [],
   "source": [
    "hotel_data.to_csv('Hotel_data.csv') #converting dataframe to csv for reference"
   ]
  },
  {
   "cell_type": "code",
   "execution_count": 837,
   "metadata": {},
   "outputs": [
    {
     "name": "stdout",
     "output_type": "stream",
     "text": [
      "(2000, 1727)\n"
     ]
    }
   ],
   "source": [
    "X_2 = vectorizer.fit_transform(documents_2) #vectorizing\n",
    "print(X_2.shape) #displaying the shape. It shows that there are 2000 documents and 1727 distinct terms"
   ]
  },
  {
   "cell_type": "code",
   "execution_count": 838,
   "metadata": {},
   "outputs": [
    {
     "name": "stdout",
     "output_type": "stream",
     "text": [
      "Vocabulary has 1727 distinct terms\n"
     ]
    }
   ],
   "source": [
    "terms_2 = vectorizer.get_feature_names()\n",
    "print(\"Vocabulary has %d distinct terms\" % len(terms_2))"
   ]
  },
  {
   "cell_type": "code",
   "execution_count": 839,
   "metadata": {},
   "outputs": [
    {
     "name": "stdout",
     "output_type": "stream",
     "text": [
      "['away', 'awesom', 'awhil', 'az', 'babi', 'back', 'backpack', 'bacon', 'bad', 'bag', 'bagel', 'baggag', 'band', 'bank', 'bar', 'bare', 'bartend', 'base', 'basic', 'bath', 'bathroom', 'batteri', 'bay', 'be', 'beach', 'beat', 'beauti', 'becam', 'becaus', 'bed', 'beer', 'befor', 'began', 'begin', 'behind', 'believ', 'best', 'better', 'beverag', 'bewar', 'beyond', 'big', 'biggest', 'bike', 'bill', 'birthday', 'bit', 'bite', 'black', 'bland']\n"
     ]
    }
   ],
   "source": [
    "# Displaying a set of sample terms\n",
    "print(terms_2[151:201])"
   ]
  },
  {
   "cell_type": "code",
   "execution_count": 840,
   "metadata": {},
   "outputs": [
    {
     "data": {
      "text/plain": [
       "1    1162\n",
       "0     838\n",
       "Name: class, dtype: int64"
      ]
     },
     "execution_count": 840,
     "metadata": {},
     "output_type": "execute_result"
    }
   ],
   "source": [
    "restaurant_data = pre_processing(restaurant_data) #calling the function pre_processing wiht restaurant_data as argument to perform preprocessing\n",
    "documents_3 = restaurant_data[\"Review\"] #Reviews are stored seperately as documents\n",
    "target_3= restaurant_data[\"class\"] #class is stored as targets\n",
    "target_3.value_counts() #To check if the count of the target satisfies the total records (documents) in the dataset"
   ]
  },
  {
   "cell_type": "code",
   "execution_count": 841,
   "metadata": {},
   "outputs": [],
   "source": [
    "restaurant_data.to_csv('Restaurant_data.csv') #converting dataframe to csv for reference"
   ]
  },
  {
   "cell_type": "code",
   "execution_count": 842,
   "metadata": {},
   "outputs": [
    {
     "name": "stdout",
     "output_type": "stream",
     "text": [
      "(2000, 1555)\n"
     ]
    }
   ],
   "source": [
    "X_3 = vectorizer.fit_transform(documents_3) #vectorizing\n",
    "print(X_3.shape) #displaying the shape. It shows that there are 2000 documents and 1555 distinct terms"
   ]
  },
  {
   "cell_type": "code",
   "execution_count": 843,
   "metadata": {},
   "outputs": [
    {
     "name": "stdout",
     "output_type": "stream",
     "text": [
      "Vocabulary has 1555 distinct terms\n"
     ]
    }
   ],
   "source": [
    "terms_3 = vectorizer.get_feature_names()\n",
    "print(\"Vocabulary has %d distinct terms\" % len(terms_3))"
   ]
  },
  {
   "cell_type": "code",
   "execution_count": 844,
   "metadata": {},
   "outputs": [
    {
     "name": "stdout",
     "output_type": "stream",
     "text": [
      "['grill', 'gritti', 'gross', 'group', 'groupon', 'grow', 'guarante', 'guess', 'guest', 'gut', 'guy', 'had', 'hadnt', 'hair', 'half', 'hamburg', 'hand', 'handl', 'hang', 'happen', 'happi', 'hard', 'hardli', 'hash', 'hate', 'have', 'havent', 'he', 'head', 'health', 'healthi', 'hear', 'heard', 'heart', 'hearti', 'heat', 'heavi', 'hell', 'hello', 'help', 'herb', 'here', 'hesit', 'hi', 'hidden', 'high', 'higher', 'highli', 'highlight', 'hill', 'hire']\n"
     ]
    }
   ],
   "source": [
    "# Displaying a set of sample terms\n",
    "print(terms_3[600:651])"
   ]
  },
  {
   "cell_type": "markdown",
   "metadata": {},
   "source": [
    "# Task 2b : Building an evaluation model to distinguish between positive and negative\n",
    "# Task 2c : Testing predictions using appropriate evaluation strategy"
   ]
  },
  {
   "cell_type": "markdown",
   "metadata": {},
   "source": [
    "Building Classification model for Cafe_data (Category A) and testing the predictions using appropriate evaluation strategy.\n",
    "\n",
    "We build the logistic regression classification model and train it with Cafe_data and also test it with data of Cafe_data"
   ]
  },
  {
   "cell_type": "code",
   "execution_count": 845,
   "metadata": {},
   "outputs": [],
   "source": [
    "#Splitting the data into training set and test set\n",
    "#Training set has 70% of the data and the testing set has 30% of the data\n",
    "data_train, data_test, target_train, target_test = train_test_split(X_1, target_1, test_size= 0.3)"
   ]
  },
  {
   "cell_type": "code",
   "execution_count": 846,
   "metadata": {},
   "outputs": [
    {
     "name": "stdout",
     "output_type": "stream",
     "text": [
      "Training set has 1400 examples\n",
      "Test set has 600 examples\n"
     ]
    }
   ],
   "source": [
    "#Checking the number of training and test set examples\n",
    "print(\"Training set has %d examples\" % data_train.shape[0] )\n",
    "print(\"Test set has %d examples\" % data_test.shape[0] )"
   ]
  },
  {
   "cell_type": "code",
   "execution_count": 847,
   "metadata": {},
   "outputs": [
    {
     "name": "stderr",
     "output_type": "stream",
     "text": [
      "C:\\Users\\HP\\Anaconda3\\lib\\site-packages\\sklearn\\linear_model\\logistic.py:432: FutureWarning: Default solver will be changed to 'lbfgs' in 0.22. Specify a solver to silence this warning.\n",
      "  FutureWarning)\n"
     ]
    },
    {
     "data": {
      "text/plain": [
       "LogisticRegression(C=1.0, class_weight=None, dual=False, fit_intercept=True,\n",
       "                   intercept_scaling=1, l1_ratio=None, max_iter=100,\n",
       "                   multi_class='warn', n_jobs=None, penalty='l2',\n",
       "                   random_state=0, solver='warn', tol=0.0001, verbose=0,\n",
       "                   warm_start=False)"
      ]
     },
     "execution_count": 847,
     "metadata": {},
     "output_type": "execute_result"
    }
   ],
   "source": [
    "#Building the logistic regression model\n",
    "model = LogisticRegression(random_state=0)\n",
    "#Fitting the training data to the model\n",
    "model.fit(data_train, target_train)"
   ]
  },
  {
   "cell_type": "code",
   "execution_count": 848,
   "metadata": {},
   "outputs": [
    {
     "data": {
      "text/plain": [
       "array([0, 0, 0, 0, 0, 0, 0, 0, 0, 0, 0, 0, 0, 0, 0, 0, 1, 1, 0, 0, 0, 0,\n",
       "       1, 0, 1, 1, 0, 0, 0, 0, 0, 0, 0, 0, 0, 0, 1, 0, 0, 1, 0, 0, 0, 0,\n",
       "       0, 1, 1, 1, 0, 0, 1, 0, 1, 1, 0, 1, 0, 0, 0, 1, 0, 0, 0, 0, 1, 0,\n",
       "       1, 0, 0, 1, 0, 0, 0, 0, 1, 0, 0, 0, 0, 0, 0, 0, 0, 0, 0, 0, 0, 0,\n",
       "       1, 0, 0, 0, 1, 0, 0, 0, 0, 0, 0, 0, 0, 0, 0, 1, 0, 0, 1, 0, 0, 0,\n",
       "       0, 0, 0, 0, 0, 0, 0, 1, 0, 0, 0, 0, 0, 1, 0, 0, 0, 1, 0, 1, 0, 0,\n",
       "       0, 0, 0, 0, 0, 0, 0, 0, 1, 0, 0, 1, 0, 0, 0, 0, 0, 0, 1, 0, 1, 0,\n",
       "       0, 0, 0, 0, 0, 0, 0, 0, 0, 0, 1, 1, 0, 1, 0, 0, 0, 0, 0, 1, 1, 0,\n",
       "       0, 0, 0, 0, 0, 1, 0, 0, 0, 0, 0, 0, 0, 0, 0, 0, 0, 0, 1, 1, 1, 0,\n",
       "       1, 0, 0, 0, 0, 1, 0, 0, 0, 1, 1, 0, 1, 0, 1, 0, 0, 0, 0, 1, 1, 0,\n",
       "       0, 0, 0, 0, 0, 1, 0, 0, 1, 0, 0, 0, 1, 0, 0, 0, 0, 1, 1, 1, 0, 0,\n",
       "       0, 0, 1, 0, 0, 0, 0, 0, 0, 0, 0, 0, 0, 1, 0, 0, 0, 1, 0, 1, 0, 1,\n",
       "       0, 0, 0, 0, 0, 0, 0, 1, 0, 0, 0, 0, 0, 0, 0, 0, 0, 1, 0, 1, 1, 1,\n",
       "       0, 0, 0, 0, 0, 0, 0, 0, 0, 1, 0, 0, 0, 0, 0, 0, 0, 1, 0, 0, 1, 1,\n",
       "       1, 0, 0, 0, 0, 0, 1, 0, 1, 0, 0, 0, 0, 0, 0, 0, 0, 1, 0, 1, 1, 0,\n",
       "       0, 1, 0, 0, 0, 0, 0, 0, 1, 0, 0, 0, 1, 0, 1, 0, 1, 0, 1, 0, 1, 0,\n",
       "       0, 0, 0, 0, 0, 0, 0, 0, 0, 0, 0, 0, 0, 0, 0, 0, 0, 1, 0, 0, 0, 0,\n",
       "       0, 0, 0, 1, 0, 0, 0, 0, 1, 0, 0, 1, 0, 0, 0, 0, 1, 0, 0, 0, 0, 0,\n",
       "       0, 0, 0, 0, 0, 0, 0, 0, 1, 0, 1, 1, 0, 0, 0, 0, 0, 0, 0, 0, 1, 0,\n",
       "       0, 1, 0, 0, 0, 0, 0, 0, 0, 0, 0, 1, 0, 0, 0, 0, 1, 0, 0, 1, 0, 0,\n",
       "       0, 0, 1, 0, 0, 1, 0, 1, 0, 0, 0, 0, 0, 0, 1, 0, 0, 1, 0, 0, 1, 1,\n",
       "       0, 0, 0, 1, 0, 1, 1, 0, 1, 0, 0, 1, 0, 0, 0, 0, 0, 0, 1, 0, 0, 0,\n",
       "       0, 0, 0, 0, 0, 0, 0, 0, 0, 0, 0, 0, 0, 0, 0, 0, 1, 1, 0, 0, 0, 0,\n",
       "       1, 0, 0, 0, 1, 0, 0, 1, 0, 0, 0, 0, 1, 0, 0, 0, 1, 0, 0, 1, 1, 0,\n",
       "       0, 1, 0, 0, 1, 0, 0, 0, 1, 0, 1, 0, 0, 0, 0, 0, 0, 0, 0, 1, 0, 0,\n",
       "       0, 0, 0, 0, 1, 0, 0, 0, 0, 0, 1, 0, 0, 1, 1, 0, 0, 1, 0, 0, 1, 1,\n",
       "       0, 1, 1, 0, 1, 0, 0, 0, 1, 0, 0, 0, 0, 0, 0, 0, 0, 0, 0, 0, 0, 1,\n",
       "       1, 1, 0, 1, 0, 0], dtype=int64)"
      ]
     },
     "execution_count": 848,
     "metadata": {},
     "output_type": "execute_result"
    }
   ],
   "source": [
    "#testing the fitted model with the test data\n",
    "predicted = model.predict(data_test)\n",
    "#displaying the array of predicted data\n",
    "predicted"
   ]
  },
  {
   "cell_type": "markdown",
   "metadata": {},
   "source": [
    "There are different evaluation strategies to evalauate the classifier. \n",
    "Here, Confusion matrix and the accuracy is used to determine the efficiency of the classifier.\n",
    "\n",
    "Confusion matrix summarises different aspects of a classifier performance such as True Positive(TP), True Negative(TN), False Positive(FP) and False Negative(FN)\n",
    "\n",
    "confusion matrix :  \n",
    "\n",
    "               TP | FN\n",
    "\n",
    "               FP | TN\n",
    "\n",
    "True Positive : Positive classes which are predicted correctly\n",
    "\n",
    "True Negative : Negative classes which are predicted correctly\n",
    "\n",
    "False Positive : Positive classes which are predicted incorrectly\n",
    "\n",
    "False Negative : Negative classes which are predicted incorrectly\n",
    "\n",
    "Also we take in Precision and Recall into account for the evaluation. \n",
    "\n",
    "Precision = TP/(TP+FP)\n",
    "\n",
    "Recall = TP/(TP+FN)\n",
    "\n",
    "Accuracy = TP+TN/Total"
   ]
  },
  {
   "cell_type": "code",
   "execution_count": 849,
   "metadata": {},
   "outputs": [
    {
     "name": "stdout",
     "output_type": "stream",
     "text": [
      "[[408  38]\n",
      " [ 56  98]]\n",
      "*****************************************************\n",
      "              precision    recall  f1-score   support\n",
      "\n",
      "    Positive       0.88      0.91      0.90       446\n",
      "    Negative       0.72      0.64      0.68       154\n",
      "\n",
      "    accuracy                           0.84       600\n",
      "   macro avg       0.80      0.78      0.79       600\n",
      "weighted avg       0.84      0.84      0.84       600\n",
      "\n"
     ]
    }
   ],
   "source": [
    "cm = confusion_matrix(target_test, predicted,labels=[0,1]) #creating a confusion matrix.Note that 1 is 'positive' and 0 is 'negative'\n",
    "print(cm) #printing the confusion matrix\n",
    "print(\"*****************************************************\")\n",
    "print(classification_report(target_test, predicted, target_names=[\"Positive\",\"Negative\"])) #Creating and building a classification report"
   ]
  },
  {
   "cell_type": "markdown",
   "metadata": {},
   "source": [
    "We can see an accuracy of 0.85 for this model using logistic regression classifier"
   ]
  },
  {
   "cell_type": "markdown",
   "metadata": {},
   "source": [
    "Building Classification model for Hotel_data(Category B) and testing the predictions using appropriate evaluation strategy"
   ]
  },
  {
   "cell_type": "code",
   "execution_count": 850,
   "metadata": {},
   "outputs": [],
   "source": [
    "#Splitting the data into training set and test set\n",
    "#Training set has 70% of the data and the testing set has 30% of the data\n",
    "data_train, data_test, target_train, target_test = train_test_split(X_2, target_2, test_size= 0.3)"
   ]
  },
  {
   "cell_type": "code",
   "execution_count": 851,
   "metadata": {},
   "outputs": [
    {
     "data": {
      "text/plain": [
       "LogisticRegression(C=1.0, class_weight=None, dual=False, fit_intercept=True,\n",
       "                   intercept_scaling=1, l1_ratio=None, max_iter=100,\n",
       "                   multi_class='warn', n_jobs=None, penalty='l2',\n",
       "                   random_state=0, solver='warn', tol=0.0001, verbose=0,\n",
       "                   warm_start=False)"
      ]
     },
     "execution_count": 851,
     "metadata": {},
     "output_type": "execute_result"
    }
   ],
   "source": [
    "#Building the logistic regression model\n",
    "model = LogisticRegression(random_state=0)\n",
    "#Fitting the training data to the model\n",
    "model.fit(data_train, target_train)"
   ]
  },
  {
   "cell_type": "code",
   "execution_count": 852,
   "metadata": {},
   "outputs": [
    {
     "data": {
      "text/plain": [
       "array([1, 1, 1, 0, 1, 0, 1, 1, 0, 0, 0, 0, 1, 1, 1, 0, 0, 1, 0, 0, 1, 0,\n",
       "       0, 0, 0, 0, 1, 1, 0, 1, 1, 1, 1, 0, 1, 0, 1, 0, 1, 1, 1, 0, 0, 0,\n",
       "       0, 1, 1, 0, 0, 0, 0, 0, 0, 1, 1, 0, 0, 1, 0, 1, 0, 1, 0, 0, 0, 1,\n",
       "       0, 0, 0, 0, 1, 0, 0, 1, 1, 1, 0, 0, 0, 1, 0, 0, 0, 0, 0, 0, 0, 1,\n",
       "       0, 0, 1, 1, 0, 0, 0, 0, 1, 0, 0, 0, 0, 0, 1, 0, 0, 1, 0, 1, 0, 0,\n",
       "       1, 1, 1, 0, 1, 0, 0, 0, 1, 0, 1, 1, 0, 0, 0, 0, 0, 0, 0, 0, 1, 0,\n",
       "       0, 0, 1, 1, 0, 0, 0, 0, 0, 1, 0, 0, 0, 1, 0, 0, 0, 0, 0, 0, 0, 1,\n",
       "       0, 0, 0, 0, 1, 1, 1, 0, 1, 0, 1, 1, 1, 0, 0, 1, 0, 1, 0, 1, 0, 1,\n",
       "       0, 0, 0, 0, 1, 0, 1, 0, 1, 1, 0, 0, 0, 0, 0, 0, 0, 0, 0, 0, 0, 1,\n",
       "       0, 1, 1, 1, 1, 0, 0, 0, 0, 0, 0, 0, 1, 1, 0, 0, 0, 0, 0, 0, 0, 0,\n",
       "       1, 1, 0, 0, 0, 0, 0, 1, 1, 0, 1, 0, 0, 0, 1, 1, 0, 0, 0, 1, 1, 1,\n",
       "       0, 0, 1, 0, 0, 1, 0, 1, 1, 0, 0, 1, 1, 1, 0, 1, 0, 0, 0, 1, 0, 0,\n",
       "       0, 1, 1, 1, 1, 0, 0, 0, 1, 0, 0, 1, 0, 0, 0, 1, 1, 0, 0, 0, 0, 0,\n",
       "       0, 1, 0, 1, 0, 0, 1, 0, 0, 1, 0, 0, 1, 1, 0, 0, 0, 1, 1, 0, 0, 0,\n",
       "       1, 0, 0, 0, 0, 1, 0, 1, 0, 1, 0, 0, 0, 1, 0, 0, 0, 0, 0, 1, 0, 0,\n",
       "       0, 0, 1, 1, 0, 1, 0, 1, 0, 0, 0, 0, 1, 0, 1, 1, 1, 0, 1, 0, 1, 0,\n",
       "       1, 0, 0, 1, 1, 1, 0, 0, 0, 0, 1, 1, 0, 0, 1, 0, 0, 1, 0, 0, 0, 0,\n",
       "       0, 1, 1, 1, 0, 0, 0, 0, 0, 0, 0, 1, 1, 1, 0, 1, 0, 0, 0, 0, 1, 1,\n",
       "       0, 0, 0, 1, 0, 1, 0, 1, 0, 0, 0, 1, 1, 0, 1, 0, 0, 0, 1, 1, 1, 0,\n",
       "       0, 0, 0, 0, 0, 1, 0, 0, 1, 0, 1, 0, 0, 1, 0, 0, 0, 0, 1, 0, 0, 1,\n",
       "       0, 0, 0, 0, 1, 0, 0, 0, 0, 0, 0, 0, 1, 0, 0, 0, 0, 0, 0, 0, 1, 0,\n",
       "       1, 1, 1, 1, 0, 0, 0, 0, 0, 1, 0, 1, 0, 0, 1, 0, 1, 1, 0, 1, 1, 0,\n",
       "       0, 0, 0, 0, 1, 0, 0, 0, 1, 0, 1, 0, 1, 1, 0, 0, 1, 0, 0, 1, 1, 0,\n",
       "       1, 1, 0, 0, 0, 1, 1, 0, 0, 0, 0, 0, 0, 0, 0, 1, 1, 1, 1, 1, 1, 1,\n",
       "       0, 0, 0, 0, 0, 1, 1, 0, 0, 1, 0, 1, 0, 1, 1, 0, 0, 1, 0, 0, 1, 0,\n",
       "       0, 0, 1, 0, 1, 1, 0, 1, 0, 1, 0, 1, 1, 1, 0, 0, 0, 1, 0, 0, 0, 0,\n",
       "       0, 0, 1, 0, 0, 1, 0, 0, 1, 0, 0, 0, 0, 0, 1, 0, 1, 0, 0, 1, 0, 0,\n",
       "       0, 1, 0, 0, 0, 1], dtype=int64)"
      ]
     },
     "execution_count": 852,
     "metadata": {},
     "output_type": "execute_result"
    }
   ],
   "source": [
    "#testing the fitted model with the test data\n",
    "predicted = model.predict(data_test)\n",
    "#displaying the array of predicted data\n",
    "predicted"
   ]
  },
  {
   "cell_type": "code",
   "execution_count": 853,
   "metadata": {},
   "outputs": [
    {
     "name": "stdout",
     "output_type": "stream",
     "text": [
      "[[326  21]\n",
      " [ 56 197]]\n",
      "*****************************************************\n",
      "              precision    recall  f1-score   support\n",
      "\n",
      "    Positive       0.85      0.94      0.89       347\n",
      "    Negative       0.90      0.78      0.84       253\n",
      "\n",
      "    accuracy                           0.87       600\n",
      "   macro avg       0.88      0.86      0.87       600\n",
      "weighted avg       0.87      0.87      0.87       600\n",
      "\n"
     ]
    }
   ],
   "source": [
    "cm = confusion_matrix(target_test, predicted,labels=[0,1]) #creating a confusion matrix.Note that 1 is 'positive' and 0 is 'negative'\n",
    "print(cm)\n",
    "print(\"*****************************************************\")\n",
    "print(classification_report(target_test, predicted, target_names=[\"Positive\",\"Negative\"])) #Creating and building a classification report"
   ]
  },
  {
   "cell_type": "markdown",
   "metadata": {},
   "source": [
    "We can see an accuracy of 0.88 for this model using logistic regression classifier"
   ]
  },
  {
   "cell_type": "markdown",
   "metadata": {},
   "source": [
    "Building Classification model for Restaurant_data(Category C) and testing the predictions using appropriate evaluation strategy"
   ]
  },
  {
   "cell_type": "code",
   "execution_count": 854,
   "metadata": {},
   "outputs": [],
   "source": [
    "#Splitting the data into training set and test set\n",
    "#Training set has 70% of the data and the testing set has 30% of the data\n",
    "data_train, data_test, target_train, target_test = train_test_split(X_3, target_3, test_size= 0.3)"
   ]
  },
  {
   "cell_type": "code",
   "execution_count": 855,
   "metadata": {},
   "outputs": [
    {
     "data": {
      "text/plain": [
       "LogisticRegression(C=1.0, class_weight=None, dual=False, fit_intercept=True,\n",
       "                   intercept_scaling=1, l1_ratio=None, max_iter=100,\n",
       "                   multi_class='warn', n_jobs=None, penalty='l2',\n",
       "                   random_state=0, solver='warn', tol=0.0001, verbose=0,\n",
       "                   warm_start=False)"
      ]
     },
     "execution_count": 855,
     "metadata": {},
     "output_type": "execute_result"
    }
   ],
   "source": [
    "#Building the logistic regression model\n",
    "model = LogisticRegression(random_state = 0)\n",
    "#Fitting the training data to the model\n",
    "model.fit(data_train, target_train)"
   ]
  },
  {
   "cell_type": "code",
   "execution_count": 856,
   "metadata": {},
   "outputs": [
    {
     "data": {
      "text/plain": [
       "array([0, 0, 0, 1, 0, 1, 1, 1, 0, 0, 1, 1, 1, 0, 1, 1, 0, 0, 0, 1, 1, 0,\n",
       "       0, 1, 1, 1, 1, 1, 1, 1, 0, 1, 0, 1, 0, 1, 1, 1, 1, 0, 0, 0, 0, 0,\n",
       "       0, 1, 0, 1, 1, 1, 1, 1, 1, 1, 1, 0, 0, 0, 1, 1, 0, 0, 1, 1, 1, 1,\n",
       "       1, 0, 1, 1, 0, 1, 1, 1, 0, 0, 1, 1, 1, 1, 1, 1, 1, 1, 1, 0, 1, 1,\n",
       "       1, 1, 0, 0, 1, 1, 1, 0, 0, 1, 1, 1, 1, 0, 0, 1, 1, 0, 0, 0, 1, 1,\n",
       "       1, 1, 1, 1, 0, 1, 1, 1, 0, 1, 1, 1, 1, 0, 0, 1, 1, 1, 0, 0, 1, 1,\n",
       "       1, 1, 1, 0, 1, 1, 1, 1, 1, 1, 1, 1, 1, 1, 0, 0, 1, 1, 0, 1, 0, 0,\n",
       "       1, 0, 1, 1, 1, 1, 1, 0, 1, 0, 0, 1, 1, 0, 0, 1, 1, 1, 1, 1, 0, 0,\n",
       "       1, 0, 1, 1, 0, 0, 1, 1, 0, 1, 0, 0, 0, 0, 1, 0, 1, 0, 0, 1, 0, 1,\n",
       "       0, 0, 1, 1, 1, 0, 0, 0, 1, 0, 1, 1, 0, 1, 1, 1, 1, 1, 1, 0, 0, 0,\n",
       "       1, 0, 0, 1, 1, 1, 1, 0, 0, 1, 1, 0, 1, 1, 0, 0, 1, 0, 0, 1, 0, 1,\n",
       "       1, 0, 1, 1, 1, 1, 1, 1, 1, 1, 1, 0, 1, 1, 1, 1, 1, 1, 1, 1, 0, 1,\n",
       "       0, 1, 1, 0, 0, 0, 0, 1, 1, 0, 0, 1, 1, 0, 1, 1, 1, 1, 1, 1, 0, 1,\n",
       "       0, 0, 1, 1, 1, 1, 0, 0, 0, 1, 1, 0, 0, 1, 0, 0, 1, 0, 1, 1, 0, 0,\n",
       "       0, 0, 1, 1, 1, 1, 0, 1, 1, 1, 1, 1, 1, 0, 1, 1, 0, 1, 0, 1, 0, 1,\n",
       "       0, 0, 0, 1, 1, 0, 0, 1, 1, 1, 0, 1, 1, 0, 1, 0, 1, 1, 1, 1, 1, 0,\n",
       "       1, 0, 0, 1, 0, 0, 0, 1, 0, 0, 0, 0, 0, 0, 1, 1, 0, 0, 1, 1, 1, 0,\n",
       "       1, 0, 1, 1, 0, 0, 1, 1, 0, 0, 1, 1, 0, 1, 0, 1, 0, 1, 0, 0, 1, 0,\n",
       "       1, 1, 0, 0, 0, 1, 0, 0, 0, 1, 0, 1, 1, 0, 1, 1, 1, 1, 0, 1, 1, 1,\n",
       "       1, 1, 1, 0, 0, 1, 0, 0, 0, 1, 1, 1, 1, 1, 1, 1, 1, 1, 1, 1, 1, 1,\n",
       "       1, 0, 1, 1, 0, 1, 1, 1, 1, 1, 0, 1, 1, 1, 1, 1, 0, 1, 0, 1, 0, 1,\n",
       "       1, 1, 1, 0, 1, 1, 1, 0, 0, 1, 0, 1, 1, 0, 0, 1, 1, 1, 0, 0, 0, 1,\n",
       "       0, 0, 0, 0, 1, 1, 0, 0, 0, 1, 1, 1, 1, 1, 1, 1, 1, 1, 1, 1, 0, 1,\n",
       "       0, 1, 1, 1, 0, 1, 0, 0, 1, 0, 1, 1, 1, 1, 0, 1, 1, 0, 1, 1, 1, 0,\n",
       "       1, 0, 1, 1, 1, 1, 1, 1, 0, 0, 1, 1, 1, 1, 1, 1, 1, 1, 1, 1, 0, 1,\n",
       "       0, 0, 0, 1, 0, 0, 0, 1, 0, 1, 1, 1, 0, 1, 1, 0, 0, 0, 1, 1, 1, 0,\n",
       "       0, 1, 1, 1, 1, 0, 1, 1, 1, 1, 1, 1, 0, 1, 0, 0, 1, 1, 0, 0, 1, 1,\n",
       "       1, 0, 1, 1, 0, 1], dtype=int64)"
      ]
     },
     "execution_count": 856,
     "metadata": {},
     "output_type": "execute_result"
    }
   ],
   "source": [
    "#Building the logistic regression model\n",
    "predicted = model.predict(data_test)\n",
    "#displaying the array of predicted data\n",
    "predicted"
   ]
  },
  {
   "cell_type": "code",
   "execution_count": 857,
   "metadata": {},
   "outputs": [
    {
     "name": "stdout",
     "output_type": "stream",
     "text": [
      "[[188  42]\n",
      " [ 40 330]]\n",
      "*****************************************************\n",
      "              precision    recall  f1-score   support\n",
      "\n",
      "    Positive       0.82      0.82      0.82       230\n",
      "    Negative       0.89      0.89      0.89       370\n",
      "\n",
      "    accuracy                           0.86       600\n",
      "   macro avg       0.86      0.85      0.86       600\n",
      "weighted avg       0.86      0.86      0.86       600\n",
      "\n"
     ]
    }
   ],
   "source": [
    "cm = confusion_matrix(target_test, predicted,labels=[0,1]) #creating a confusion matrix.Note that 1 is 'positive' and 0 is 'negative'\n",
    "print(cm)\n",
    "print(\"*****************************************************\")\n",
    "print(classification_report(target_test, predicted, target_names=[\"Positive\",\"Negative\"])) #Creating and building a classification report"
   ]
  },
  {
   "cell_type": "markdown",
   "metadata": {},
   "source": [
    "We can see an accuracy of 0.84 for this model using logistic regression classifier"
   ]
  },
  {
   "cell_type": "markdown",
   "metadata": {},
   "source": [
    "Logistic regression provided high accuracy for the cafe dataset,the hotel dataset and the restaurant dataset. Standard evaluation technique has been used by splitting the dataset into two (70% training data and 30% test data). Because of this, the accuracies keep on changing every time when we fit and predict the model. "
   ]
  },
  {
   "cell_type": "markdown",
   "metadata": {},
   "source": [
    "# Task 3a : Training on A and Evaluating on B and C"
   ]
  },
  {
   "cell_type": "code",
   "execution_count": 858,
   "metadata": {},
   "outputs": [],
   "source": [
    "documents_cafe = cafe_data['Review'] #moving the reviews to a new variable\n",
    "target_cafe= cafe_data['class'] #moving the class to a new variable\n",
    "\n",
    "documents_Hotel = hotel_data['Review'] #moving the reviews to a new variable\n",
    "target_Hotel= hotel_data['class'] #moving the class to a new variable\n",
    "\n",
    "documents_Restaurant = restaurant_data['Review'] #moving the reviews to a new variable\n",
    "target_Restaurant= restaurant_data['class'] #moving the class to a new variable\n"
   ]
  },
  {
   "cell_type": "markdown",
   "metadata": {},
   "source": [
    "Training the classifier with an entire dataset and testing it with an another dataset is a bit of a hassle.\n",
    "\n",
    "Using pipeline technique, we fuse the TFIDVectorizer with the model into a single object and it the does transformation and prediction in single step."
   ]
  },
  {
   "cell_type": "code",
   "execution_count": 859,
   "metadata": {},
   "outputs": [
    {
     "name": "stdout",
     "output_type": "stream",
     "text": [
      "(2000, 1479)\n",
      "(2000, 1479)\n",
      "(2000, 1479)\n"
     ]
    }
   ],
   "source": [
    "vectorizer = CountVectorizer(min_df = 10, stop_words = None)\n",
    "transf = vectorizer.fit(documents_cafe) #fit the cafe dataset\n",
    "cafe = transf.transform(documents_cafe) #transform using cafe dataset\n",
    "hotel = transf.transform(documents_Hotel) #transform using cafe dataset \n",
    "Restaurant = transf.transform(documents_Restaurant) #transform using cafe dataset \n",
    "\n",
    "print(cafe.shape)\n",
    "print(hotel.shape)\n",
    "print(Restaurant.shape)"
   ]
  },
  {
   "cell_type": "markdown",
   "metadata": {},
   "source": [
    "Training with Cafe dataset and testing with Hotel dataset"
   ]
  },
  {
   "cell_type": "code",
   "execution_count": 860,
   "metadata": {},
   "outputs": [
    {
     "name": "stdout",
     "output_type": "stream",
     "text": [
      "Accuracy = 0.81\n",
      "[[959 217]\n",
      " [162 662]]\n",
      "              precision    recall  f1-score   support\n",
      "\n",
      "    Positive       0.86      0.82      0.84      1176\n",
      "    Negative       0.75      0.80      0.78       824\n",
      "\n",
      "    accuracy                           0.81      2000\n",
      "   macro avg       0.80      0.81      0.81      2000\n",
      "weighted avg       0.81      0.81      0.81      2000\n",
      "\n"
     ]
    },
    {
     "name": "stderr",
     "output_type": "stream",
     "text": [
      "C:\\Users\\HP\\Anaconda3\\lib\\site-packages\\sklearn\\linear_model\\logistic.py:432: FutureWarning: Default solver will be changed to 'lbfgs' in 0.22. Specify a solver to silence this warning.\n",
      "  FutureWarning)\n"
     ]
    }
   ],
   "source": [
    "model = LogisticRegression(random_state=0) #building logistic regression model\n",
    "model.fit(cafe, target_cafe) #fitting the model using the cafe dataset\n",
    "\n",
    "predicted = model.predict(hotel) #testing using the hotel dataset\n",
    "\n",
    "print(\"Accuracy = %.2f\" % accuracy_score(target_Hotel, predicted) ) \n",
    "\n",
    "cm = confusion_matrix(target_Hotel, predicted,labels=[0,1]) #implementing confusion matrix. Note that 1 is positive and 0 is negative in the labels\n",
    "print(cm)\n",
    "\n",
    "print(classification_report(target_Hotel, predicted, target_names=[\"Positive\",\"Negative\"])) #printing classification report"
   ]
  },
  {
   "cell_type": "markdown",
   "metadata": {},
   "source": [
    "Training with Cafe dataset and testing with Restaurant dataset"
   ]
  },
  {
   "cell_type": "code",
   "execution_count": 861,
   "metadata": {
    "scrolled": true
   },
   "outputs": [
    {
     "name": "stdout",
     "output_type": "stream",
     "text": [
      "Accuracy = 0.15\n",
      "[[ 186  652]\n",
      " [1047  115]]\n",
      "              precision    recall  f1-score   support\n",
      "\n",
      "    Positive       0.15      0.22      0.18       838\n",
      "    Negative       0.15      0.10      0.12      1162\n",
      "\n",
      "    accuracy                           0.15      2000\n",
      "   macro avg       0.15      0.16      0.15      2000\n",
      "weighted avg       0.15      0.15      0.14      2000\n",
      "\n"
     ]
    }
   ],
   "source": [
    "model = LogisticRegression(random_state=0) #building logistic regression model\n",
    "model.fit(cafe, target_cafe) #fitting the model using the cafe dataset\n",
    "\n",
    "predicted = model.predict(Restaurant) #testing using the restaurant dataset\n",
    "\n",
    "print(\"Accuracy = %.2f\" % accuracy_score(target_Restaurant, predicted) )\n",
    "\n",
    "cm = confusion_matrix(target_Restaurant, predicted,labels=[0,1]) #implementing confusion matrix. Note that 1 is positive and 0 is negative in the labels\n",
    "print(cm)\n",
    "\n",
    "print(classification_report(target_Restaurant, predicted, target_names=[\"Positive\",\"Negative\"])) #printing classification report"
   ]
  },
  {
   "cell_type": "code",
   "execution_count": 862,
   "metadata": {},
   "outputs": [
    {
     "data": {
      "image/png": "[encoded data removed]",
      "text/plain": [
       "<Figure size 432x360 with 1 Axes>"
      ]
     },
     "metadata": {
      "needs_background": "light"
     },
     "output_type": "display_data"
    }
   ],
   "source": [
    "#Plotting bar graph for to compare the accuracies of Hotel dataset(B) and Restaurant dataset(C)\n",
    "values = [0.81, 0.15]\n",
    "names = ['Hotels','Restaurants']\n",
    "plt.figure(figsize=(6,5))\n",
    "plt.bar(names, values, color=\"blue\", width=0.5)\n",
    "plt.title(\"Accuracies of Hotel dataset and Restaurant dataset when the classifier is trained with Restaurant dataset\", fontsize=14)\n",
    "plt.ylabel(\"Accuracy of classifier\", fontsize=14)\n",
    "plt.xticks(fontsize=11)\n",
    "plt.yticks(fontsize=11);"
   ]
  },
  {
   "cell_type": "markdown",
   "metadata": {},
   "source": [
    "# Task 3b : Training on B and Evaluating on A and C"
   ]
  },
  {
   "cell_type": "code",
   "execution_count": 863,
   "metadata": {},
   "outputs": [
    {
     "name": "stdout",
     "output_type": "stream",
     "text": [
      "(2000, 1727)\n",
      "(2000, 1727)\n",
      "(2000, 1727)\n"
     ]
    }
   ],
   "source": [
    "vectorizer = CountVectorizer(min_df = 10, stop_words = None)\n",
    "transf = vectorizer.fit(documents_Hotel) #fit the hotel dataset\n",
    "cafe = transf.transform(documents_cafe) #transform using hotel dataset\n",
    "hotel = transf.transform(documents_Hotel) #transform using hotel dataset\n",
    "Restaurant = transf.transform(documents_Restaurant) #transform using hotel dataset\n",
    "\n",
    "print(cafe.shape)\n",
    "print(hotel.shape)\n",
    "print(Restaurant.shape)"
   ]
  },
  {
   "cell_type": "markdown",
   "metadata": {},
   "source": [
    "Training with Hotel dataset and testing with Cafe dataset"
   ]
  },
  {
   "cell_type": "code",
   "execution_count": 864,
   "metadata": {},
   "outputs": [
    {
     "name": "stdout",
     "output_type": "stream",
     "text": [
      "Accuracy = 0.83\n",
      "[[1269  193]\n",
      " [ 154  384]]\n",
      "              precision    recall  f1-score   support\n",
      "\n",
      "    Positive       0.89      0.87      0.88      1462\n",
      "    Negative       0.67      0.71      0.69       538\n",
      "\n",
      "    accuracy                           0.83      2000\n",
      "   macro avg       0.78      0.79      0.78      2000\n",
      "weighted avg       0.83      0.83      0.83      2000\n",
      "\n"
     ]
    },
    {
     "name": "stderr",
     "output_type": "stream",
     "text": [
      "C:\\Users\\HP\\Anaconda3\\lib\\site-packages\\sklearn\\linear_model\\logistic.py:432: FutureWarning: Default solver will be changed to 'lbfgs' in 0.22. Specify a solver to silence this warning.\n",
      "  FutureWarning)\n"
     ]
    }
   ],
   "source": [
    "model = LogisticRegression(random_state=0) #building logistic regression model\n",
    "model.fit(hotel, target_Hotel)#fitting the model using the hotel dataset\n",
    "\n",
    "predicted = model.predict(cafe) #testing using the cafe dataset\n",
    "\n",
    "print(\"Accuracy = %.2f\" % accuracy_score(target_cafe, predicted) ) \n",
    "\n",
    "cm = confusion_matrix(target_cafe, predicted,labels=[0,1]) #implementing confusion matrix. Note that 1 is positive and 0 is negative in the labels\n",
    "print(cm)\n",
    "\n",
    "print(classification_report(target_cafe, predicted, target_names=[\"Positive\",\"Negative\"])) #printing classification report"
   ]
  },
  {
   "cell_type": "markdown",
   "metadata": {},
   "source": [
    "Training with Hotel dataset and testing with Restaurant dataset"
   ]
  },
  {
   "cell_type": "code",
   "execution_count": 865,
   "metadata": {},
   "outputs": [
    {
     "name": "stdout",
     "output_type": "stream",
     "text": [
      "Accuracy = 0.17\n",
      "[[ 201  637]\n",
      " [1014  148]]\n",
      "              precision    recall  f1-score   support\n",
      "\n",
      "    Positive       0.17      0.24      0.20       838\n",
      "    Negative       0.19      0.13      0.15      1162\n",
      "\n",
      "    accuracy                           0.17      2000\n",
      "   macro avg       0.18      0.18      0.17      2000\n",
      "weighted avg       0.18      0.17      0.17      2000\n",
      "\n"
     ]
    }
   ],
   "source": [
    "model = LogisticRegression(random_state=0) #building logistic regression model\n",
    "model.fit(hotel, target_Hotel) #fitting the model using the hotel dataset\n",
    "\n",
    "predicted = model.predict(Restaurant) #testing using the restaurant dataset\n",
    "\n",
    "print(\"Accuracy = %.2f\" % accuracy_score(target_Restaurant, predicted) )\n",
    "\n",
    "cm = confusion_matrix(target_Restaurant, predicted,labels=[0,1]) #implementing confusion matrix. Note that 1 is positive and 0 is negative in the labels\n",
    "print(cm)\n",
    "\n",
    "print(classification_report(target_Restaurant, predicted, target_names=[\"Positive\",\"Negative\"])) #printing classification report"
   ]
  },
  {
   "cell_type": "code",
   "execution_count": 866,
   "metadata": {},
   "outputs": [
    {
     "data": {
      "image/png": "[encoded data removed]",
      "text/plain": [
       "<Figure size 432x360 with 1 Axes>"
      ]
     },
     "metadata": {
      "needs_background": "light"
     },
     "output_type": "display_data"
    }
   ],
   "source": [
    "#Plotting bar graph for to compare the accuracies of Cafe dataset(A) and Restaurant dataset(C)\n",
    "values = [0.83, 0.18]\n",
    "names = ['Cafes','Restaurants']\n",
    "plt.figure(figsize=(6,5))\n",
    "plt.bar(names, values, color=\"Red\", width=0.5)\n",
    "plt.title(\"Accuracies of Cafe dataset and Restaurant dataset when the classifier is trained with Restaurant dataset\", fontsize=14)\n",
    "plt.ylabel(\"Accuracy of classifier\", fontsize=14)\n",
    "plt.xticks(fontsize=11)\n",
    "plt.yticks(fontsize=11);"
   ]
  },
  {
   "cell_type": "markdown",
   "metadata": {},
   "source": [
    "# Task 3c : Training on C and Evaluating on A and B"
   ]
  },
  {
   "cell_type": "code",
   "execution_count": 867,
   "metadata": {},
   "outputs": [
    {
     "name": "stdout",
     "output_type": "stream",
     "text": [
      "(2000, 1555)\n",
      "(2000, 1555)\n",
      "(2000, 1555)\n"
     ]
    }
   ],
   "source": [
    "vectorizer = CountVectorizer(min_df = 10, stop_words = None)\n",
    "transf = vectorizer.fit(documents_Restaurant) #fit the restaurant dataset\n",
    "cafe = transf.transform(documents_cafe) #transform using restaurant dataset\n",
    "hotel = transf.transform(documents_Hotel) #transform using restaurant dataset\n",
    "Restaurant = transf.transform(documents_Restaurant) #transform using restaurant dataset\n",
    "\n",
    "print(cafe.shape)\n",
    "print(hotel.shape)\n",
    "print(Restaurant.shape)"
   ]
  },
  {
   "cell_type": "markdown",
   "metadata": {},
   "source": [
    "Training with Restaurant dataset and testing with Cafe dataset"
   ]
  },
  {
   "cell_type": "code",
   "execution_count": 868,
   "metadata": {},
   "outputs": [
    {
     "name": "stdout",
     "output_type": "stream",
     "text": [
      "Accuracy = 0.13\n",
      "[[ 150 1312]\n",
      " [ 423  115]]\n",
      "              precision    recall  f1-score   support\n",
      "\n",
      "    Positive       0.26      0.10      0.15      1462\n",
      "    Negative       0.08      0.21      0.12       538\n",
      "\n",
      "    accuracy                           0.13      2000\n",
      "   macro avg       0.17      0.16      0.13      2000\n",
      "weighted avg       0.21      0.13      0.14      2000\n",
      "\n"
     ]
    },
    {
     "name": "stderr",
     "output_type": "stream",
     "text": [
      "C:\\Users\\HP\\Anaconda3\\lib\\site-packages\\sklearn\\linear_model\\logistic.py:432: FutureWarning: Default solver will be changed to 'lbfgs' in 0.22. Specify a solver to silence this warning.\n",
      "  FutureWarning)\n"
     ]
    }
   ],
   "source": [
    "model = LogisticRegression(random_state=0) #building logistic regression model\n",
    "model.fit(Restaurant, target_Restaurant) #fitting the model using the restaurant dataset\n",
    "\n",
    "predicted = model.predict(cafe) #testing using the cafe dataset\n",
    "\n",
    "print(\"Accuracy = %.2f\" % accuracy_score(target_cafe, predicted) )\n",
    "\n",
    "cm = confusion_matrix(target_cafe, predicted,labels=[0,1]) #implementing confusion matrix. Note that 1 is positive and 0 is negative in the labels\n",
    "print(cm)\n",
    "\n",
    "print(classification_report(target_cafe, predicted, target_names=[\"Positive\",\"Negative\"])) #printing classification report"
   ]
  },
  {
   "cell_type": "markdown",
   "metadata": {},
   "source": [
    "Training with Restaurant dataset and testing with Hotel dataset"
   ]
  },
  {
   "cell_type": "code",
   "execution_count": 869,
   "metadata": {},
   "outputs": [
    {
     "name": "stdout",
     "output_type": "stream",
     "text": [
      "Accuracy = 0.18\n",
      "[[243 933]\n",
      " [712 112]]\n",
      "              precision    recall  f1-score   support\n",
      "\n",
      "    Positive       0.25      0.21      0.23      1176\n",
      "    Negative       0.11      0.14      0.12       824\n",
      "\n",
      "    accuracy                           0.18      2000\n",
      "   macro avg       0.18      0.17      0.17      2000\n",
      "weighted avg       0.19      0.18      0.18      2000\n",
      "\n"
     ]
    }
   ],
   "source": [
    "model = LogisticRegression(random_state=0) #building logistic regression model\n",
    "model.fit(Restaurant, target_Restaurant) #fitting the model using the restaurant dataset\n",
    "\n",
    "predicted = model.predict(hotel) #testing using the hotel dataset\n",
    "\n",
    "print(\"Accuracy = %.2f\" % accuracy_score(target_Hotel, predicted) ) \n",
    "\n",
    "cm = confusion_matrix(target_Hotel, predicted,labels=[0,1]) #implementing confusion matrix. Note that 1 is positive and 0 is negative in the labels\n",
    "print(cm)\n",
    "\n",
    "print(classification_report(target_Hotel, predicted, target_names=[\"Positive\",\"Negative\"])) #printing classification report"
   ]
  },
  {
   "cell_type": "code",
   "execution_count": 870,
   "metadata": {},
   "outputs": [
    {
     "data": {
      "image/png": "[encoded data removed]",
      "text/plain": [
       "<Figure size 432x360 with 1 Axes>"
      ]
     },
     "metadata": {
      "needs_background": "light"
     },
     "output_type": "display_data"
    }
   ],
   "source": [
    "#Plotting bar graph for to compare the accuracies of Cafe dataset(A) and Hotel dataset(B)\n",
    "values = [0.13, 0.18]\n",
    "names = ['Cafes','Hotels']\n",
    "plt.figure(figsize=(6,5))\n",
    "plt.bar(names, values, color=\"Green\", width=0.5)\n",
    "plt.title(\"Accuracies of Cafe dataset and Hotel dataset when the classifier is trained with Restaurant dataset\", fontsize=14)\n",
    "plt.ylabel(\"Accuracy of classifier\", fontsize=14)\n",
    "plt.xticks(fontsize=11)\n",
    "plt.yticks(fontsize=11);"
   ]
  },
  {
   "cell_type": "markdown",
   "metadata": {},
   "source": [
    "# Inferences\n",
    "\n",
    "Cafe_dataset model : The accuracy of the model tested with Hotel dataset is 0.81 and the the accuracy of the model tested with Restaurant dataset is 0.15\n",
    "\n",
    "Hotel_dataset model : The accuracy of the model tested with Cafe dataset is 0.83 and the the accuracy of the model tested with Restaurant dataset is 0.18\n",
    "\n",
    "Restaurant_dataset model : The accuracy of the model tested with Cafe dataset is 0.13 and the the accuracy of the model tested with Hotel dataset is 0.18\n",
    "\n",
    "When we look at the accuracies, the Restaurant_dataset model has less accuracy during its prediction on both the test datasets. It might be highly accounted for the fact that the restaurant dataset is an imbalanced dataset and there are less number of common terms between the restaurant dataset and the other two datasets.\n",
    "\n",
    "Even when the test dataset is the Restaurant dataset, low accuracy is observed \n",
    "\n",
    "Even after using other classifiers(Naive Bayes, Random Forest), the accuracy observed is less when the test dataset is the Restaurant dataset. \n",
    "\n",
    "Compared to the other two classifiers, logistic regression proved to be producing higher accuracies and hence all the classification and prediction is done using the logistic regression classifier."
   ]
  }
 ],
 "metadata": {
  "kernelspec": {
   "display_name": "Python 3",
   "language": "python",
   "name": "python3"
  },
  "language_info": {
   "codemirror_mode": {
    "name": "ipython",
    "version": 3
   },
   "file_extension": ".py",
   "mimetype": "text/x-python",
   "name": "python",
   "nbconvert_exporter": "python",
   "pygments_lexer": "ipython3",
   "version": "3.7.4"
  }
 },
 "nbformat": 4,
 "nbformat_minor": 2
}
